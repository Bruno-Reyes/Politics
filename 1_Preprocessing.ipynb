{
 "cells": [
  {
   "attachments": {},
   "cell_type": "markdown",
   "metadata": {},
   "source": [
    "### Importamos librerias"
   ]
  },
  {
   "cell_type": "code",
   "execution_count": 1,
   "metadata": {},
   "outputs": [
    {
     "name": "stderr",
     "output_type": "stream",
     "text": [
      "/home/bruno-rg/anaconda3/envs/nlp/lib/python3.10/site-packages/tqdm/auto.py:22: TqdmWarning: IProgress not found. Please update jupyter and ipywidgets. See https://ipywidgets.readthedocs.io/en/stable/user_install.html\n",
      "  from .autonotebook import tqdm as notebook_tqdm\n"
     ]
    }
   ],
   "source": [
    "import pandas as pd\n",
    "import spacy\n",
    "import re\n",
    "import emoji\n",
    "from sklearn.preprocessing import LabelEncoder\n",
    "nlp = spacy.load('es_core_news_sm')"
   ]
  },
  {
   "attachments": {},
   "cell_type": "markdown",
   "metadata": {},
   "source": [
    "### Cargamos los datos en bruto"
   ]
  },
  {
   "cell_type": "code",
   "execution_count": 2,
   "metadata": {},
   "outputs": [
    {
     "name": "stdout",
     "output_type": "stream",
     "text": [
      "(180000, 6)\n"
     ]
    }
   ],
   "source": [
    "politicES_train = pd.read_csv('./Corpus/pratice_data/politicES_phase_2_train_public.csv')\n",
    "print(politicES_train.shape)"
   ]
  },
  {
   "cell_type": "code",
   "execution_count": 3,
   "metadata": {},
   "outputs": [
    {
     "data": {
      "text/html": [
       "<div>\n",
       "<style scoped>\n",
       "    .dataframe tbody tr th:only-of-type {\n",
       "        vertical-align: middle;\n",
       "    }\n",
       "\n",
       "    .dataframe tbody tr th {\n",
       "        vertical-align: top;\n",
       "    }\n",
       "\n",
       "    .dataframe thead th {\n",
       "        text-align: right;\n",
       "    }\n",
       "</style>\n",
       "<table border=\"1\" class=\"dataframe\">\n",
       "  <thead>\n",
       "    <tr style=\"text-align: right;\">\n",
       "      <th></th>\n",
       "      <th>label</th>\n",
       "      <th>gender</th>\n",
       "      <th>profession</th>\n",
       "      <th>ideology_binary</th>\n",
       "      <th>ideology_multiclass</th>\n",
       "      <th>tweet</th>\n",
       "    </tr>\n",
       "  </thead>\n",
       "  <tbody>\n",
       "    <tr>\n",
       "      <th>0</th>\n",
       "      <td>0008c4fab9e97623a60380ee9c88cb20</td>\n",
       "      <td>female</td>\n",
       "      <td>politician</td>\n",
       "      <td>left</td>\n",
       "      <td>left</td>\n",
       "      <td>¡Feliz 28 de febrero a todas las andaluzas y a...</td>\n",
       "    </tr>\n",
       "    <tr>\n",
       "      <th>1</th>\n",
       "      <td>0008c4fab9e97623a60380ee9c88cb20</td>\n",
       "      <td>female</td>\n",
       "      <td>politician</td>\n",
       "      <td>left</td>\n",
       "      <td>left</td>\n",
       "      <td>Feliz año nuevo, feliz esperanza 💕. Querido 20...</td>\n",
       "    </tr>\n",
       "    <tr>\n",
       "      <th>2</th>\n",
       "      <td>0008c4fab9e97623a60380ee9c88cb20</td>\n",
       "      <td>female</td>\n",
       "      <td>politician</td>\n",
       "      <td>left</td>\n",
       "      <td>left</td>\n",
       "      <td>🇩🇪🇪🇸 ¡Un placer encontrarme con mi homólogo al...</td>\n",
       "    </tr>\n",
       "  </tbody>\n",
       "</table>\n",
       "</div>"
      ],
      "text/plain": [
       "                              label  gender  profession ideology_binary  \\\n",
       "0  0008c4fab9e97623a60380ee9c88cb20  female  politician            left   \n",
       "1  0008c4fab9e97623a60380ee9c88cb20  female  politician            left   \n",
       "2  0008c4fab9e97623a60380ee9c88cb20  female  politician            left   \n",
       "\n",
       "  ideology_multiclass                                              tweet  \n",
       "0                left  ¡Feliz 28 de febrero a todas las andaluzas y a...  \n",
       "1                left  Feliz año nuevo, feliz esperanza 💕. Querido 20...  \n",
       "2                left  🇩🇪🇪🇸 ¡Un placer encontrarme con mi homólogo al...  "
      ]
     },
     "execution_count": 3,
     "metadata": {},
     "output_type": "execute_result"
    }
   ],
   "source": [
    "politicES_train.head(3)"
   ]
  },
  {
   "attachments": {},
   "cell_type": "markdown",
   "metadata": {},
   "source": [
    "### Reformateamos los datos\n",
    "\n",
    "#### Normalizamos el texto"
   ]
  },
  {
   "cell_type": "code",
   "execution_count": 10,
   "metadata": {},
   "outputs": [],
   "source": [
    "# Función que normaliza el texto, según una lista de etiquetas dada. \n",
    "\n",
    "def apply_regex(text:str):\n",
    "    regexUser = re.compile(\"@+\\w{1,15}\") \n",
    "    regexHashtag = re.compile(\"#+\\w+\") \n",
    "    regexHour = re.compile(\"\\d{1,2}[h]|\\d{1,2}[:]\\d{1,2}\") \n",
    "    regexDate = re.compile(\"\\[\\d{1,2}/\\d{1,2}\") \n",
    "    regexNumber = re.compile(\"\\d+\")\n",
    "    regexBrackets = re.compile('\\[\\w+\\]') \n",
    "    regexAnd = re.compile('[yo]')\n",
    "    regexList = [regexUser,regexHashtag,regexHour,regexDate,regexNumber,regexBrackets,regexAnd]\n",
    "\n",
    "    valid = True\n",
    "    for regex in regexList:\n",
    "        if re.match(regex, text) or emoji.emoji_count(text) >= 1:\n",
    "             valid = False\n",
    "             break\n",
    "    return valid # Devuelve True si la cadena es valida\n",
    "\n",
    "\n",
    "def normalize(text:str): \n",
    "    regex_text = \"\"\n",
    "    normalized_text = []\n",
    "    # Usando Regex\n",
    "    for token in text.split(' '):\n",
    "        if apply_regex(token):\n",
    "            regex_text += token + \" \"\n",
    "    # Usando Spacy\n",
    "    tags =  ('PUNCT', 'ADP', 'CONJ', 'SCONJ', 'PROP', 'DET')\n",
    "    doc = nlp(regex_text)\n",
    "    for token in doc:\n",
    "            # Se verifica que el token no sea alguna etiqueta dada. \n",
    "                if token.tag_ not in tags: \n",
    "                    normalized_text.append(token.lemma_)\n",
    "    # Se regresa el texto normalizado\n",
    "    _text = \"\"\n",
    "    for word in normalized_text:\n",
    "        _text += word + \" \"\n",
    "    _text = re.sub(' +', ' ', _text)\n",
    "    return _text.strip().replace('\\'','').replace('\\\"','').lower()\n",
    "\n",
    "# ADP : adposition = preposicion\n",
    "# CONJ : coordinating conjunction = conjuncion coordinante\n",
    "# SCONJ :  subordinating conjunction = conjuncion subordinante\n",
    "# PROP : pronoun = pronombre\n",
    "# DET : determiner = articulo\n",
    "\n",
    "normaliced_data = pd.DataFrame()\n",
    "\n",
    "tweets_normaliced = []\n",
    "for text in politicES_train['tweet']:\n",
    "    tweets_normaliced.append(normalize(text))\n",
    "\n",
    "normaliced_data['tweets'] = tweets_normaliced"
   ]
  },
  {
   "attachments": {},
   "cell_type": "markdown",
   "metadata": {},
   "source": [
    "#### Aplicando LabelEncoding para 'Genero', 'Profesion', 'Ideologia binaria', 'Ideologia Multiclase'"
   ]
  },
  {
   "cell_type": "code",
   "execution_count": 11,
   "metadata": {},
   "outputs": [
    {
     "data": {
      "text/html": [
       "<div>\n",
       "<style scoped>\n",
       "    .dataframe tbody tr th:only-of-type {\n",
       "        vertical-align: middle;\n",
       "    }\n",
       "\n",
       "    .dataframe tbody tr th {\n",
       "        vertical-align: top;\n",
       "    }\n",
       "\n",
       "    .dataframe thead th {\n",
       "        text-align: right;\n",
       "    }\n",
       "</style>\n",
       "<table border=\"1\" class=\"dataframe\">\n",
       "  <thead>\n",
       "    <tr style=\"text-align: right;\">\n",
       "      <th></th>\n",
       "      <th>tweets</th>\n",
       "      <th>genero</th>\n",
       "      <th>profesion</th>\n",
       "      <th>ideologia_binaria</th>\n",
       "      <th>ideologia_multiclase</th>\n",
       "    </tr>\n",
       "  </thead>\n",
       "  <tbody>\n",
       "    <tr>\n",
       "      <th>0</th>\n",
       "      <td>feliz febrero andaluza andaluz andalucía donde...</td>\n",
       "      <td>0</td>\n",
       "      <td>2</td>\n",
       "      <td>0</td>\n",
       "      <td>0</td>\n",
       "    </tr>\n",
       "    <tr>\n",
       "      <th>1</th>\n",
       "      <td>feliz año nuevo feliz esperanzo querido allá ir</td>\n",
       "      <td>0</td>\n",
       "      <td>2</td>\n",
       "      <td>0</td>\n",
       "      <td>0</td>\n",
       "    </tr>\n",
       "    <tr>\n",
       "      <th>2</th>\n",
       "      <td>placer encontrar yo homólogo alemán compartir ...</td>\n",
       "      <td>0</td>\n",
       "      <td>2</td>\n",
       "      <td>0</td>\n",
       "      <td>0</td>\n",
       "    </tr>\n",
       "    <tr>\n",
       "      <th>3</th>\n",
       "      <td>conflicto ucrania haber suponer dramático para...</td>\n",
       "      <td>0</td>\n",
       "      <td>2</td>\n",
       "      <td>0</td>\n",
       "      <td>0</td>\n",
       "    </tr>\n",
       "    <tr>\n",
       "      <th>4</th>\n",
       "      <td>academia llingua asturiana realizar trabajo gr...</td>\n",
       "      <td>0</td>\n",
       "      <td>2</td>\n",
       "      <td>0</td>\n",
       "      <td>0</td>\n",
       "    </tr>\n",
       "    <tr>\n",
       "      <th>5</th>\n",
       "      <td>cumplir ley derecho laboral no ser ser</td>\n",
       "      <td>0</td>\n",
       "      <td>2</td>\n",
       "      <td>0</td>\n",
       "      <td>0</td>\n",
       "    </tr>\n",
       "    <tr>\n",
       "      <th>6</th>\n",
       "      <td>placer haber poder conocer comunidad español u...</td>\n",
       "      <td>0</td>\n",
       "      <td>2</td>\n",
       "      <td>0</td>\n",
       "      <td>0</td>\n",
       "    </tr>\n",
       "    <tr>\n",
       "      <th>7</th>\n",
       "      <td>contratación indefinido comenzar ser norma red...</td>\n",
       "      <td>0</td>\n",
       "      <td>2</td>\n",
       "      <td>0</td>\n",
       "      <td>0</td>\n",
       "    </tr>\n",
       "    <tr>\n",
       "      <th>8</th>\n",
       "      <td>amazon no tener sindicato ser verdadero notici...</td>\n",
       "      <td>0</td>\n",
       "      <td>2</td>\n",
       "      <td>0</td>\n",
       "      <td>0</td>\n",
       "    </tr>\n",
       "    <tr>\n",
       "      <th>9</th>\n",
       "      <td>hoy detallar rueda prensa aprobación primero p...</td>\n",
       "      <td>0</td>\n",
       "      <td>2</td>\n",
       "      <td>0</td>\n",
       "      <td>0</td>\n",
       "    </tr>\n",
       "  </tbody>\n",
       "</table>\n",
       "</div>"
      ],
      "text/plain": [
       "                                              tweets  genero  profesion  \\\n",
       "0  feliz febrero andaluza andaluz andalucía donde...       0          2   \n",
       "1    feliz año nuevo feliz esperanzo querido allá ir       0          2   \n",
       "2  placer encontrar yo homólogo alemán compartir ...       0          2   \n",
       "3  conflicto ucrania haber suponer dramático para...       0          2   \n",
       "4  academia llingua asturiana realizar trabajo gr...       0          2   \n",
       "5             cumplir ley derecho laboral no ser ser       0          2   \n",
       "6  placer haber poder conocer comunidad español u...       0          2   \n",
       "7  contratación indefinido comenzar ser norma red...       0          2   \n",
       "8  amazon no tener sindicato ser verdadero notici...       0          2   \n",
       "9  hoy detallar rueda prensa aprobación primero p...       0          2   \n",
       "\n",
       "   ideologia_binaria  ideologia_multiclase  \n",
       "0                  0                     0  \n",
       "1                  0                     0  \n",
       "2                  0                     0  \n",
       "3                  0                     0  \n",
       "4                  0                     0  \n",
       "5                  0                     0  \n",
       "6                  0                     0  \n",
       "7                  0                     0  \n",
       "8                  0                     0  \n",
       "9                  0                     0  "
      ]
     },
     "execution_count": 11,
     "metadata": {},
     "output_type": "execute_result"
    }
   ],
   "source": [
    "le = LabelEncoder()\n",
    "\n",
    "normaliced_data['genero'] = le.fit_transform(politicES_train['gender'])\n",
    "normaliced_data['profesion'] = le.fit_transform(politicES_train['profession'])\n",
    "normaliced_data['ideologia_binaria'] = le.fit_transform(politicES_train['ideology_binary'])\n",
    "normaliced_data['ideologia_multiclase'] = le.fit_transform(politicES_train['ideology_multiclass'])\n",
    "\n",
    "normaliced_data.head(10)"
   ]
  },
  {
   "cell_type": "code",
   "execution_count": 12,
   "metadata": {},
   "outputs": [
    {
     "name": "stdout",
     "output_type": "stream",
     "text": [
      "(180000, 5)\n"
     ]
    }
   ],
   "source": [
    "print(normaliced_data.shape)\n",
    "normaliced_data.to_csv('./Corpus/normaliced_data/politicES.csv')"
   ]
  },
  {
   "cell_type": "code",
   "execution_count": 6,
   "metadata": {},
   "outputs": [
    {
     "name": "stdout",
     "output_type": "stream",
     "text": [
      "['female' 'male']\n",
      "['politician' 'journalist' 'celebrity']\n",
      "['left' 'right']\n",
      "['left' 'right' 'moderate_left' 'moderate_right']\n"
     ]
    }
   ],
   "source": [
    "print(politicES_train['gender'].unique())\n",
    "print(politicES_train['profession'].unique())\n",
    "print(politicES_train['ideology_binary'].unique())\n",
    "print(politicES_train['ideology_multiclass'].unique())"
   ]
  }
 ],
 "metadata": {
  "kernelspec": {
   "display_name": "nlp",
   "language": "python",
   "name": "python3"
  },
  "language_info": {
   "codemirror_mode": {
    "name": "ipython",
    "version": 3
   },
   "file_extension": ".py",
   "mimetype": "text/x-python",
   "name": "python",
   "nbconvert_exporter": "python",
   "pygments_lexer": "ipython3",
   "version": "3.10.9"
  },
  "orig_nbformat": 4
 },
 "nbformat": 4,
 "nbformat_minor": 2
}
