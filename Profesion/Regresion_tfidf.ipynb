{
  "nbformat": 4,
  "nbformat_minor": 0,
  "metadata": {
    "colab": {
      "provenance": []
    },
    "kernelspec": {
      "name": "python3",
      "display_name": "Python 3"
    },
    "language_info": {
      "name": "python"
    }
  },
  "cells": [
    {
      "cell_type": "markdown",
      "source": [
        "#Regresión_tfidf"
      ],
      "metadata": {
        "id": "I69PKVqWIRSt"
      }
    },
    {
      "cell_type": "code",
      "source": [
        "import pandas as pd\n",
        "import numpy as np\n",
        "from sklearn.model_selection import StratifiedKFold\n",
        "from sklearn.model_selection import KFold\n",
        "from sklearn.model_selection import cross_val_score\n",
        "from sklearn.linear_model import LogisticRegression\n",
        "from sklearn.metrics import accuracy_score, precision_score, f1_score, recall_score\n",
        "from sklearn import metrics\n",
        "from sklearn.model_selection import train_test_split\n",
        "from sklearn.feature_extraction.text import TfidfVectorizer\n",
        "from sklearn.model_selection import cross_val_score\n",
        "from sklearn.preprocessing import LabelEncoder"
      ],
      "metadata": {
        "id": "W-BVZArlITZd"
      },
      "execution_count": null,
      "outputs": []
    },
    {
      "cell_type": "code",
      "source": [
        "data = pd.read_csv('./politicES.csv', index_col=0)\n",
        "\n",
        "X = data['tweets']\n",
        "\n",
        "y = data['profesion']\n"
      ],
      "metadata": {
        "id": "2KKxtlj2Jt22"
      },
      "execution_count": null,
      "outputs": []
    },
    {
      "cell_type": "code",
      "source": [
        "# Se divide el conjunto de entrenamiento y de orueba\n",
        "X_train, X_test, y_train, y_test = train_test_split(X, y, test_size= 0.2, random_state=42)\n",
        "\n",
        "print('X entrenamiento: {}, y entrenamiento: {}\\nX prueba: {}, y prueba: {}'.format(X_train.shape,y_train.shape, X_test.shape, y_test.shape))"
      ],
      "metadata": {
        "colab": {
          "base_uri": "https://localhost:8080/"
        },
        "id": "lfFUZuPRKDxm",
        "outputId": "99e06eeb-1873-4025-b989-d145e5949d87"
      },
      "execution_count": null,
      "outputs": [
        {
          "output_type": "stream",
          "name": "stdout",
          "text": [
            "X entrenamiento: (144000,), y entrenamiento: (144000,)\n",
            "X prueba: (36000,), y prueba: (36000,)\n"
          ]
        }
      ]
    },
    {
      "cell_type": "code",
      "source": [
        "# Se crea una instancia de TfidfVectorizer() y se asigna a la variable vectorized\n",
        "vectorized = TfidfVectorizer()\n",
        "# x_train_tfidf se obtiene al aplicar el método fit_transform() de vectorized a los datos de entrenamiento x_train\n",
        "x_train_tfidf = vectorized.fit_transform(X_train)\n",
        "x_test_tfidf = vectorized.transform(X_test)\n",
        "\n",
        "print('TF-IDF:\\nX entrenamiento: {} X prueba: {}'.format(x_train_tfidf.shape, x_test_tfidf.shape))"
      ],
      "metadata": {
        "colab": {
          "base_uri": "https://localhost:8080/"
        },
        "id": "YmSXwMLNKaWl",
        "outputId": "f89c06c9-1f99-42f8-9155-7360e00308cf"
      },
      "execution_count": null,
      "outputs": [
        {
          "output_type": "stream",
          "name": "stdout",
          "text": [
            "TF-IDF:\n",
            "X entrenamiento: (144000, 77038) X prueba: (36000, 77038)\n"
          ]
        }
      ]
    },
    {
      "cell_type": "code",
      "source": [
        "lr_model = LogisticRegression(multi_class='multinomial',solver='sag', penalty= 'l2',max_iter=500)\n",
        "lr_model = lr_model.fit(x_train_tfidf, y_train)\n",
        "\n",
        "predictions = lr_model.predict(x_test_tfidf)\n",
        "\n",
        "accuracy = round(accuracy_score(y_test, predictions),2)\n",
        "print(\"Exactitud:\",accuracy)\n",
        "precision = round(precision_score(y_test, predictions,average='weighted'),2)\n",
        "print(\"Precisión:\", precision)\n",
        "f1 = round(f1_score(y_test, predictions,average='weighted'),2)\n",
        "print(\"Puntuación F1:\", f1)\n",
        "recall = round(recall_score(y_test, predictions, average='weighted'),2)\n",
        "print(\"Recall:\", recall)"
      ],
      "metadata": {
        "colab": {
          "base_uri": "https://localhost:8080/"
        },
        "id": "TOi5NPdGLA4O",
        "outputId": "ee697702-1122-426b-c962-8fa2d06a7902"
      },
      "execution_count": null,
      "outputs": [
        {
          "output_type": "stream",
          "name": "stdout",
          "text": [
            "Exactitud: 0.76\n",
            "Precisión: 0.75\n",
            "Puntuación F1: 0.74\n",
            "Recall: 0.76\n"
          ]
        }
      ]
    }
  ]
}