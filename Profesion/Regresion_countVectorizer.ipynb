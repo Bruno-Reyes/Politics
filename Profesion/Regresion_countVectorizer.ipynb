{
  "nbformat": 4,
  "nbformat_minor": 0,
  "metadata": {
    "colab": {
      "provenance": []
    },
    "kernelspec": {
      "name": "python3",
      "display_name": "Python 3"
    },
    "language_info": {
      "name": "python"
    }
  },
  "cells": [
    {
      "cell_type": "markdown",
      "source": [
        "#Regresion Countvectorizer"
      ],
      "metadata": {
        "id": "GGktJs6aiM2d"
      }
    },
    {
      "cell_type": "code",
      "source": [
        "import pandas as pd\n",
        "import numpy as np\n",
        "from sklearn.model_selection import StratifiedKFold\n",
        "from sklearn.model_selection import KFold\n",
        "from sklearn.model_selection import cross_val_score\n",
        "from sklearn.linear_model import LogisticRegression\n",
        "from sklearn.metrics import accuracy_score, precision_score, f1_score, recall_score\n",
        "from sklearn import metrics\n",
        "from sklearn.model_selection import train_test_split\n",
        "from sklearn.feature_extraction.text import CountVectorizer\n",
        "from sklearn.model_selection import cross_val_score\n",
        "from sklearn.preprocessing import LabelEncoder"
      ],
      "metadata": {
        "id": "60kc-lPDiP_d"
      },
      "execution_count": null,
      "outputs": []
    },
    {
      "cell_type": "code",
      "source": [
        "data = pd.read_csv('./politicES.csv', index_col=0)\n",
        "\n",
        "X = data['tweets']\n",
        "\n",
        "y = data['profesion']"
      ],
      "metadata": {
        "id": "lh3fVxmIieLk"
      },
      "execution_count": null,
      "outputs": []
    },
    {
      "cell_type": "code",
      "source": [
        "# Se divide el conjunto de entrenamiento y de orueba\n",
        "X_train, X_test, y_train, y_test = train_test_split(X, y, test_size= 0.2, random_state=42)\n",
        "\n",
        "print('X entrenamiento: {}, y entrenamiento: {}\\nX prueba: {}, y prueba: {}'.format(X_train.shape,y_train.shape, X_test.shape, y_test.shape))"
      ],
      "metadata": {
        "colab": {
          "base_uri": "https://localhost:8080/"
        },
        "id": "PxEO9R3bioXu",
        "outputId": "1b1851c6-5a6f-4f7e-ee32-4d53d2ebab56"
      },
      "execution_count": null,
      "outputs": [
        {
          "output_type": "stream",
          "name": "stdout",
          "text": [
            "X entrenamiento: (144000,), y entrenamiento: (144000,)\n",
            "X prueba: (36000,), y prueba: (36000,)\n"
          ]
        }
      ]
    },
    {
      "cell_type": "code",
      "source": [
        "# Se crea una instancia de CountVectorizer() y se asigna a la variable vectorized\n",
        "vectorized = CountVectorizer()\n",
        "# x_train_tfidf se obtiene al aplicar el método fit_transform() de vectorized a los datos de entrenamiento x_train\n",
        "x_train_countvectorizer = vectorized.fit_transform(X_train)\n",
        "x_test_countvectorizer = vectorized.transform(X_test)\n",
        "\n",
        "print('TF-IDF:\\nX entrenamiento: {} X prueba: {}'.format(x_train_countvectorizer.shape, x_test_countvectorizer.shape))"
      ],
      "metadata": {
        "colab": {
          "base_uri": "https://localhost:8080/"
        },
        "id": "MElCt3c_isBH",
        "outputId": "032a0596-7f04-4767-d8d9-22cad6e7b065"
      },
      "execution_count": null,
      "outputs": [
        {
          "output_type": "stream",
          "name": "stdout",
          "text": [
            "TF-IDF:\n",
            "X entrenamiento: (144000, 77038) X prueba: (36000, 77038)\n"
          ]
        }
      ]
    },
    {
      "cell_type": "code",
      "source": [
        "lr_model = LogisticRegression(multi_class='multinomial',solver='sag', penalty= 'l2',max_iter=500)\n",
        "lr_model = lr_model.fit(x_train_countvectorizer, y_train)\n",
        "\n",
        "predictions = lr_model.predict(x_test_countvectorizer)\n",
        "\n",
        "accuracy = round(accuracy_score(y_test, predictions),2)\n",
        "print(\"Exactitud:\",accuracy)\n",
        "precision = round(precision_score(y_test, predictions,average='weighted'),2)\n",
        "print(\"Precisión:\", precision)\n",
        "f1 = round(f1_score(y_test, predictions,average='weighted'),2)\n",
        "print(\"Puntuación F1:\", f1)\n",
        "recall = round(recall_score(y_test, predictions, average='weighted'),2)\n",
        "print(\"Recall:\", recall)"
      ],
      "metadata": {
        "colab": {
          "base_uri": "https://localhost:8080/"
        },
        "id": "HFVIQhI5jskl",
        "outputId": "26433278-ffac-4c80-b3fb-57f1dfa922b5"
      },
      "execution_count": null,
      "outputs": [
        {
          "output_type": "stream",
          "name": "stdout",
          "text": [
            "Exactitud: 0.75\n",
            "Precisión: 0.74\n",
            "Puntuación F1: 0.74\n",
            "Recall: 0.75\n"
          ]
        }
      ]
    }
  ]
}