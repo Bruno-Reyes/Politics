{
  "nbformat": 4,
  "nbformat_minor": 0,
  "metadata": {
    "colab": {
      "provenance": []
    },
    "kernelspec": {
      "name": "python3",
      "display_name": "Python 3"
    },
    "language_info": {
      "name": "python"
    }
  },
  "cells": [
    {
      "cell_type": "markdown",
      "source": [
        "#KNN_tfidf"
      ],
      "metadata": {
        "id": "Yc9itwZlNbCN"
      }
    },
    {
      "cell_type": "code",
      "source": [
        "import pandas as pd\n",
        "import numpy as np\n",
        "from sklearn.model_selection import StratifiedKFold\n",
        "from sklearn.model_selection import KFold\n",
        "from sklearn.model_selection import cross_val_score\n",
        "from sklearn.linear_model import LogisticRegression\n",
        "from sklearn.metrics import accuracy_score, precision_score, f1_score, recall_score\n",
        "from sklearn import metrics\n",
        "from sklearn.model_selection import train_test_split\n",
        "from sklearn.feature_extraction.text import TfidfVectorizer\n",
        "from sklearn.model_selection import cross_val_score\n",
        "from sklearn.preprocessing import LabelEncoder\n",
        "from sklearn.neighbors import KNeighborsClassifier"
      ],
      "metadata": {
        "id": "G1W6lZHjNggj"
      },
      "execution_count": null,
      "outputs": []
    },
    {
      "cell_type": "code",
      "source": [
        "data = pd.read_csv('./politicES.csv', index_col=0)\n",
        "\n",
        "X = data['tweets']\n",
        "\n",
        "y = data['profesion']"
      ],
      "metadata": {
        "id": "ou2ZFRERNl0t"
      },
      "execution_count": null,
      "outputs": []
    },
    {
      "cell_type": "code",
      "source": [
        "# Se divide el conjunto de entrenamiento y de orueba\n",
        "X_train, X_test, y_train, y_test = train_test_split(X, y, test_size= 0.2, random_state=42)\n",
        "\n",
        "print('X entrenamiento: {}, y entrenamiento: {}\\nX prueba: {}, y prueba: {}'.format(X_train.shape,y_train.shape, X_test.shape, y_test.shape))"
      ],
      "metadata": {
        "colab": {
          "base_uri": "https://localhost:8080/"
        },
        "id": "8SFMLehgNq2c",
        "outputId": "40d90c31-4d64-4889-ef1b-1de701d4e9b8"
      },
      "execution_count": null,
      "outputs": [
        {
          "output_type": "stream",
          "name": "stdout",
          "text": [
            "X entrenamiento: (144000,), y entrenamiento: (144000,)\n",
            "X prueba: (36000,), y prueba: (36000,)\n"
          ]
        }
      ]
    },
    {
      "cell_type": "code",
      "source": [
        "# Se crea una instancia de TfidfVectorizer() y se asigna a la variable vectorized\n",
        "vectorized = TfidfVectorizer()\n",
        "# x_train_tfidf se obtiene al aplicar el método fit_transform() de vectorized a los datos de entrenamiento x_train\n",
        "x_train_tfidf = vectorized.fit_transform(X_train)\n",
        "x_test_tfidf = vectorized.transform(X_test)\n",
        "\n",
        "print('TF-IDF:\\nX entrenamiento: {} X prueba: {}'.format(x_train_tfidf.shape, x_test_tfidf.shape))"
      ],
      "metadata": {
        "colab": {
          "base_uri": "https://localhost:8080/"
        },
        "id": "jXRyORHmNuir",
        "outputId": "2133d7f9-5ec2-40e5-971f-d851a1011f76"
      },
      "execution_count": null,
      "outputs": [
        {
          "output_type": "stream",
          "name": "stdout",
          "text": [
            "TF-IDF:\n",
            "X entrenamiento: (144000, 77038) X prueba: (36000, 77038)\n"
          ]
        }
      ]
    },
    {
      "cell_type": "code",
      "source": [
        "knn = KNeighborsClassifier(n_neighbors=7)\n",
        "knn.fit(x_train_tfidf,y_train)\n",
        "\n",
        "predictions = knn.predict(x_test_tfidf)\n",
        "\n",
        "# Calcular la exactitud\n",
        "exactitud = round(accuracy_score(y_test, predictions),2)\n",
        "print(\"Exactitud:\", exactitud)\n",
        "\n",
        "# Calcular la precisión\n",
        "precision = round(precision_score(y_test, predictions,average='weighted'),2)\n",
        "print(\"Precisión:\", precision)\n",
        "\n",
        "# Calcular la puntuación F1\n",
        "f1 = round(f1_score(y_test, predictions,average='weighted'),2)\n",
        "print(\"Puntuación F1:\", f1)\n",
        "\n",
        "# Calcular la recall\n",
        "recall = round(recall_score(y_test, predictions,average='weighted'),2)\n",
        "print(\"Recall:\", recall)"
      ],
      "metadata": {
        "colab": {
          "base_uri": "https://localhost:8080/"
        },
        "id": "1MAZNEXRN6nc",
        "outputId": "ae3a3f31-4d54-402f-d037-4895c949992f"
      },
      "execution_count": null,
      "outputs": [
        {
          "output_type": "stream",
          "name": "stdout",
          "text": [
            "Exactitud: 0.71\n",
            "Precisión: 0.71\n",
            "Puntuación F1: 0.67\n",
            "Recall: 0.71\n"
          ]
        }
      ]
    }
  ]
}