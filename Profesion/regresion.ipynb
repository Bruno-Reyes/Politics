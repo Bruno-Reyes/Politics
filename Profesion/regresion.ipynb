{
  "nbformat": 4,
  "nbformat_minor": 0,
  "metadata": {
    "colab": {
      "provenance": []
    },
    "kernelspec": {
      "name": "python3",
      "display_name": "Python 3"
    },
    "language_info": {
      "name": "python"
    }
  },
  "cells": [
    {
      "cell_type": "markdown",
      "source": [
        "# Regresion"
      ],
      "metadata": {
        "id": "72u-f6pzfVN6"
      }
    },
    {
      "cell_type": "code",
      "source": [
        "import pandas as pd\n",
        "import numpy as np\n",
        "from sklearn.model_selection import StratifiedKFold\n",
        "from sklearn.model_selection import KFold\n",
        "from sklearn.model_selection import cross_val_score\n",
        "from sklearn.linear_model import LogisticRegression\n",
        "from sklearn.metrics import accuracy_score, precision_score, f1_score, recall_score\n",
        "from sklearn import metrics"
      ],
      "metadata": {
        "id": "hllr28Vtfauy"
      },
      "execution_count": null,
      "outputs": []
    },
    {
      "cell_type": "markdown",
      "source": [
        "###profesion resampled data"
      ],
      "metadata": {
        "id": "SvAT66eJ31sT"
      }
    },
    {
      "cell_type": "code",
      "source": [
        "X_train = pd.read_csv(\"./X_train_resampled_profesion.csv\", index_col=None, encoding='utf-8')\n",
        "y_train = pd.read_csv(\"./y_train_resampled_profesion.csv\", index_col=None, encoding='utf-8')\n",
        "\n",
        "X_test = pd.read_csv(\"./X_test.csv\", index_col=None, encoding='utf-8')\n",
        "y_test = pd.read_csv(\"./y_test.csv\", index_col=None, encoding='utf-8')"
      ],
      "metadata": {
        "id": "6nwUom6u3vWr"
      },
      "execution_count": null,
      "outputs": []
    },
    {
      "cell_type": "code",
      "source": [
        "lr_model = LogisticRegression(multi_class='multinomial',solver='sag', penalty= 'l2', max_iter=500)\n",
        "lr_model = lr_model.fit(X_train, y_train['profesion'])\n",
        "\n",
        "predictions = lr_model.predict(X_test)\n",
        "\n",
        "accuracy = round(accuracy_score(y_test['profesion'], predictions),2)\n",
        "print(\"Exactitud:\",accuracy)\n",
        "precision = round(precision_score(y_test['profesion'], predictions,average='weighted'),2)\n",
        "print(\"Precisión:\", precision)\n",
        "f1 = round(f1_score(y_test['profesion'], predictions,average='weighted'),2)\n",
        "print(\"Puntuación F1:\", f1)\n",
        "recall = round(recall_score(y_test['profesion'], predictions, average='weighted'),2)\n",
        "print(\"Recall:\", recall)"
      ],
      "metadata": {
        "colab": {
          "base_uri": "https://localhost:8080/"
        },
        "id": "unyhfNwYGZ1-",
        "outputId": "7f52d547-6de5-4e23-9c32-d1e7976e464d"
      },
      "execution_count": null,
      "outputs": [
        {
          "output_type": "stream",
          "name": "stdout",
          "text": [
            "Exactitud: 0.32\n",
            "Precisión: 0.49\n",
            "Puntuación F1: 0.26\n",
            "Recall: 0.32\n"
          ]
        },
        {
          "output_type": "stream",
          "name": "stderr",
          "text": [
            "/usr/local/lib/python3.10/dist-packages/sklearn/linear_model/_sag.py:350: ConvergenceWarning: The max_iter was reached which means the coef_ did not converge\n",
            "  warnings.warn(\n"
          ]
        }
      ]
    },
    {
      "cell_type": "markdown",
      "source": [
        "###profesion undersampled data"
      ],
      "metadata": {
        "id": "RkP-4KWWcVnH"
      }
    },
    {
      "cell_type": "code",
      "source": [
        "X_train = pd.read_csv(\"./X_undersampled_profesion.csv\", index_col=None, encoding='utf-8')\n",
        "y_train = pd.read_csv(\"./y_undersampled_profesion.csv\", index_col=None, encoding='utf-8')\n",
        "\n",
        "X_test = pd.read_csv(\"./X_test.csv\", index_col=None, encoding='utf-8')\n",
        "y_test = pd.read_csv(\"./y_test.csv\", index_col=None, encoding='utf-8')"
      ],
      "metadata": {
        "id": "5jIknZ4KccVO"
      },
      "execution_count": null,
      "outputs": []
    },
    {
      "cell_type": "code",
      "source": [
        "lr_model = LogisticRegression(multi_class='multinomial',solver='sag', penalty= 'l2',max_iter=500)\n",
        "lr_model = lr_model.fit(X_train, y_train['profesion'])\n",
        "\n",
        "predictions = lr_model.predict(X_test)\n",
        "\n",
        "accuracy = round(accuracy_score(y_test['profesion'], predictions),2)\n",
        "print(\"Exactitud:\",accuracy)\n",
        "precision = round(precision_score(y_test['profesion'], predictions,average='weighted'),2)\n",
        "print(\"Precisión:\", precision)\n",
        "f1 = round(f1_score(y_test['profesion'], predictions,average='weighted'),2)\n",
        "print(\"Puntuación F1:\", f1)\n",
        "recall = round(recall_score(y_test['profesion'], predictions, average='weighted'),2)\n",
        "print(\"Recall:\", recall)"
      ],
      "metadata": {
        "colab": {
          "base_uri": "https://localhost:8080/"
        },
        "id": "SL5MeIkGdjQP",
        "outputId": "2e0f6499-667f-4da9-cb0f-d887a02150d7"
      },
      "execution_count": null,
      "outputs": [
        {
          "output_type": "stream",
          "name": "stdout",
          "text": [
            "Exactitud: 0.33\n",
            "Precisión: 0.5\n",
            "Puntuación F1: 0.32\n",
            "Recall: 0.33\n"
          ]
        }
      ]
    },
    {
      "cell_type": "markdown",
      "source": [
        "### profesion data normal\n"
      ],
      "metadata": {
        "id": "U1LSc3pndplX"
      }
    },
    {
      "cell_type": "code",
      "source": [
        "X_train = pd.read_csv(\"./X_train.csv\", index_col=None, encoding='utf-8')\n",
        "y_train = pd.read_csv(\"./y_train.csv\", index_col=None, encoding='utf-8')\n",
        "\n",
        "X_test = pd.read_csv(\"./X_test.csv\", index_col=None, encoding='utf-8')\n",
        "y_test = pd.read_csv(\"./y_test.csv\", index_col=None, encoding='utf-8')\n",
        "\n",
        "lr_model = LogisticRegression(multi_class='multinomial',solver='sag', penalty= 'l2',max_iter=500)\n",
        "lr_model = lr_model.fit(X_train, y_train['profesion'])\n",
        "\n",
        "predictions = lr_model.predict(X_test)\n",
        "\n",
        "accuracy = round(accuracy_score(y_test['profesion'], predictions),2)\n",
        "print(\"Exactitud:\",accuracy)\n",
        "precision = round(precision_score(y_test['profesion'], predictions,average='weighted'),2)\n",
        "print(\"Precisión:\", precision)\n",
        "f1 = round(f1_score(y_test['profesion'], predictions,average='weighted'),2)\n",
        "print(\"Puntuación F1:\", f1)\n",
        "recall = round(recall_score(y_test['profesion'], predictions, average='weighted'),2)\n",
        "print(\"Recall:\", recall)"
      ],
      "metadata": {
        "colab": {
          "base_uri": "https://localhost:8080/"
        },
        "id": "JRQ973Nids_e",
        "outputId": "6072dc93-6372-4e32-e022-9c9287e0fb34"
      },
      "execution_count": null,
      "outputs": [
        {
          "output_type": "stream",
          "name": "stdout",
          "text": [
            "Exactitud: 0.62\n",
            "Precisión: 0.38\n",
            "Puntuación F1: 0.47\n",
            "Recall: 0.62\n"
          ]
        },
        {
          "output_type": "stream",
          "name": "stderr",
          "text": [
            "/usr/local/lib/python3.10/dist-packages/sklearn/linear_model/_sag.py:350: ConvergenceWarning: The max_iter was reached which means the coef_ did not converge\n",
            "  warnings.warn(\n",
            "/usr/local/lib/python3.10/dist-packages/sklearn/metrics/_classification.py:1344: UndefinedMetricWarning: Precision is ill-defined and being set to 0.0 in labels with no predicted samples. Use `zero_division` parameter to control this behavior.\n",
            "  _warn_prf(average, modifier, msg_start, len(result))\n"
          ]
        }
      ]
    }
  ]
}