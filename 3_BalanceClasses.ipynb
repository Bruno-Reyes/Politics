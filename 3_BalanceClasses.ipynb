{
 "cells": [
  {
   "cell_type": "code",
   "execution_count": 1,
   "metadata": {},
   "outputs": [],
   "source": [
    "import pandas as pd\n",
    "import numpy as np\n",
    "import seaborn as sns"
   ]
  },
  {
   "cell_type": "code",
   "execution_count": 2,
   "metadata": {},
   "outputs": [
    {
     "data": {
      "text/html": [
       "<div>\n",
       "<style scoped>\n",
       "    .dataframe tbody tr th:only-of-type {\n",
       "        vertical-align: middle;\n",
       "    }\n",
       "\n",
       "    .dataframe tbody tr th {\n",
       "        vertical-align: top;\n",
       "    }\n",
       "\n",
       "    .dataframe thead th {\n",
       "        text-align: right;\n",
       "    }\n",
       "</style>\n",
       "<table border=\"1\" class=\"dataframe\">\n",
       "  <thead>\n",
       "    <tr style=\"text-align: right;\">\n",
       "      <th></th>\n",
       "      <th>0</th>\n",
       "      <th>1</th>\n",
       "      <th>2</th>\n",
       "      <th>3</th>\n",
       "      <th>4</th>\n",
       "      <th>5</th>\n",
       "      <th>6</th>\n",
       "      <th>7</th>\n",
       "      <th>8</th>\n",
       "      <th>9</th>\n",
       "      <th>...</th>\n",
       "      <th>86</th>\n",
       "      <th>87</th>\n",
       "      <th>88</th>\n",
       "      <th>89</th>\n",
       "      <th>90</th>\n",
       "      <th>91</th>\n",
       "      <th>92</th>\n",
       "      <th>93</th>\n",
       "      <th>94</th>\n",
       "      <th>95</th>\n",
       "    </tr>\n",
       "  </thead>\n",
       "  <tbody>\n",
       "    <tr>\n",
       "      <th>0</th>\n",
       "      <td>0.259048</td>\n",
       "      <td>0.341358</td>\n",
       "      <td>0.692951</td>\n",
       "      <td>-0.379994</td>\n",
       "      <td>0.604933</td>\n",
       "      <td>0.069596</td>\n",
       "      <td>0.402958</td>\n",
       "      <td>0.740904</td>\n",
       "      <td>-0.091567</td>\n",
       "      <td>-1.208656</td>\n",
       "      <td>...</td>\n",
       "      <td>0.930541</td>\n",
       "      <td>0.953439</td>\n",
       "      <td>-0.046344</td>\n",
       "      <td>0.470298</td>\n",
       "      <td>0.691683</td>\n",
       "      <td>-0.179601</td>\n",
       "      <td>-0.351949</td>\n",
       "      <td>0.602567</td>\n",
       "      <td>0.225874</td>\n",
       "      <td>-0.909140</td>\n",
       "    </tr>\n",
       "    <tr>\n",
       "      <th>1</th>\n",
       "      <td>-0.401631</td>\n",
       "      <td>-0.467680</td>\n",
       "      <td>0.770422</td>\n",
       "      <td>-1.316617</td>\n",
       "      <td>1.141321</td>\n",
       "      <td>-0.549662</td>\n",
       "      <td>-0.048251</td>\n",
       "      <td>-0.765220</td>\n",
       "      <td>-0.174378</td>\n",
       "      <td>-1.325902</td>\n",
       "      <td>...</td>\n",
       "      <td>-0.153110</td>\n",
       "      <td>0.789636</td>\n",
       "      <td>-0.040021</td>\n",
       "      <td>-0.037423</td>\n",
       "      <td>0.008648</td>\n",
       "      <td>-1.487877</td>\n",
       "      <td>-0.255687</td>\n",
       "      <td>2.281488</td>\n",
       "      <td>0.172696</td>\n",
       "      <td>-1.230714</td>\n",
       "    </tr>\n",
       "    <tr>\n",
       "      <th>2</th>\n",
       "      <td>-0.070129</td>\n",
       "      <td>0.254390</td>\n",
       "      <td>0.910866</td>\n",
       "      <td>-0.377196</td>\n",
       "      <td>2.073473</td>\n",
       "      <td>-0.818220</td>\n",
       "      <td>0.539036</td>\n",
       "      <td>-0.535451</td>\n",
       "      <td>0.473443</td>\n",
       "      <td>-1.889348</td>\n",
       "      <td>...</td>\n",
       "      <td>-0.425020</td>\n",
       "      <td>0.444765</td>\n",
       "      <td>-0.976778</td>\n",
       "      <td>0.016354</td>\n",
       "      <td>-1.046900</td>\n",
       "      <td>-1.638016</td>\n",
       "      <td>-0.761511</td>\n",
       "      <td>2.086892</td>\n",
       "      <td>0.455025</td>\n",
       "      <td>-0.587316</td>\n",
       "    </tr>\n",
       "    <tr>\n",
       "      <th>3</th>\n",
       "      <td>-1.324792</td>\n",
       "      <td>0.297993</td>\n",
       "      <td>0.941478</td>\n",
       "      <td>-0.107193</td>\n",
       "      <td>0.658866</td>\n",
       "      <td>-0.661947</td>\n",
       "      <td>0.223350</td>\n",
       "      <td>-0.133799</td>\n",
       "      <td>0.651489</td>\n",
       "      <td>-0.753784</td>\n",
       "      <td>...</td>\n",
       "      <td>0.403546</td>\n",
       "      <td>0.639322</td>\n",
       "      <td>-0.108607</td>\n",
       "      <td>0.239867</td>\n",
       "      <td>0.366755</td>\n",
       "      <td>-1.025677</td>\n",
       "      <td>-0.624976</td>\n",
       "      <td>1.792124</td>\n",
       "      <td>0.493074</td>\n",
       "      <td>-1.356055</td>\n",
       "    </tr>\n",
       "    <tr>\n",
       "      <th>4</th>\n",
       "      <td>-0.836681</td>\n",
       "      <td>-0.338175</td>\n",
       "      <td>0.985681</td>\n",
       "      <td>-0.349820</td>\n",
       "      <td>1.381007</td>\n",
       "      <td>-0.549897</td>\n",
       "      <td>0.172364</td>\n",
       "      <td>-0.488504</td>\n",
       "      <td>-0.606773</td>\n",
       "      <td>-1.462604</td>\n",
       "      <td>...</td>\n",
       "      <td>0.353195</td>\n",
       "      <td>-0.349938</td>\n",
       "      <td>-0.573265</td>\n",
       "      <td>-0.213770</td>\n",
       "      <td>0.335208</td>\n",
       "      <td>-2.132044</td>\n",
       "      <td>-0.016554</td>\n",
       "      <td>1.315530</td>\n",
       "      <td>1.141820</td>\n",
       "      <td>-1.830020</td>\n",
       "    </tr>\n",
       "    <tr>\n",
       "      <th>...</th>\n",
       "      <td>...</td>\n",
       "      <td>...</td>\n",
       "      <td>...</td>\n",
       "      <td>...</td>\n",
       "      <td>...</td>\n",
       "      <td>...</td>\n",
       "      <td>...</td>\n",
       "      <td>...</td>\n",
       "      <td>...</td>\n",
       "      <td>...</td>\n",
       "      <td>...</td>\n",
       "      <td>...</td>\n",
       "      <td>...</td>\n",
       "      <td>...</td>\n",
       "      <td>...</td>\n",
       "      <td>...</td>\n",
       "      <td>...</td>\n",
       "      <td>...</td>\n",
       "      <td>...</td>\n",
       "      <td>...</td>\n",
       "      <td>...</td>\n",
       "    </tr>\n",
       "    <tr>\n",
       "      <th>143995</th>\n",
       "      <td>0.786474</td>\n",
       "      <td>-1.116792</td>\n",
       "      <td>1.866064</td>\n",
       "      <td>-0.211069</td>\n",
       "      <td>1.210433</td>\n",
       "      <td>-1.014123</td>\n",
       "      <td>0.048828</td>\n",
       "      <td>-0.351742</td>\n",
       "      <td>0.617720</td>\n",
       "      <td>-1.132544</td>\n",
       "      <td>...</td>\n",
       "      <td>0.705925</td>\n",
       "      <td>-0.473457</td>\n",
       "      <td>-0.958785</td>\n",
       "      <td>-0.064294</td>\n",
       "      <td>-0.126806</td>\n",
       "      <td>-0.787464</td>\n",
       "      <td>-0.201556</td>\n",
       "      <td>1.124488</td>\n",
       "      <td>-0.102439</td>\n",
       "      <td>-0.317084</td>\n",
       "    </tr>\n",
       "    <tr>\n",
       "      <th>143996</th>\n",
       "      <td>-0.694452</td>\n",
       "      <td>0.137969</td>\n",
       "      <td>1.075349</td>\n",
       "      <td>-0.332732</td>\n",
       "      <td>1.009307</td>\n",
       "      <td>-1.395666</td>\n",
       "      <td>0.313020</td>\n",
       "      <td>-0.331536</td>\n",
       "      <td>0.752790</td>\n",
       "      <td>-1.187933</td>\n",
       "      <td>...</td>\n",
       "      <td>0.436080</td>\n",
       "      <td>0.475656</td>\n",
       "      <td>-1.273695</td>\n",
       "      <td>0.771915</td>\n",
       "      <td>0.316371</td>\n",
       "      <td>-1.416980</td>\n",
       "      <td>-0.586176</td>\n",
       "      <td>1.434090</td>\n",
       "      <td>0.834349</td>\n",
       "      <td>-1.220719</td>\n",
       "    </tr>\n",
       "    <tr>\n",
       "      <th>143997</th>\n",
       "      <td>-0.001610</td>\n",
       "      <td>0.169606</td>\n",
       "      <td>0.915487</td>\n",
       "      <td>-0.542644</td>\n",
       "      <td>2.134387</td>\n",
       "      <td>-0.034068</td>\n",
       "      <td>0.559162</td>\n",
       "      <td>-0.221646</td>\n",
       "      <td>0.192301</td>\n",
       "      <td>-1.830342</td>\n",
       "      <td>...</td>\n",
       "      <td>0.052916</td>\n",
       "      <td>0.192306</td>\n",
       "      <td>-1.196737</td>\n",
       "      <td>0.548500</td>\n",
       "      <td>0.784114</td>\n",
       "      <td>-0.685821</td>\n",
       "      <td>-0.055975</td>\n",
       "      <td>0.477918</td>\n",
       "      <td>0.928023</td>\n",
       "      <td>-0.976702</td>\n",
       "    </tr>\n",
       "    <tr>\n",
       "      <th>143998</th>\n",
       "      <td>-1.563839</td>\n",
       "      <td>0.523623</td>\n",
       "      <td>0.450593</td>\n",
       "      <td>-0.221090</td>\n",
       "      <td>1.612875</td>\n",
       "      <td>-0.599302</td>\n",
       "      <td>0.546911</td>\n",
       "      <td>0.187769</td>\n",
       "      <td>0.453554</td>\n",
       "      <td>-2.049484</td>\n",
       "      <td>...</td>\n",
       "      <td>0.387889</td>\n",
       "      <td>0.819854</td>\n",
       "      <td>-0.445019</td>\n",
       "      <td>-0.150274</td>\n",
       "      <td>1.066683</td>\n",
       "      <td>-0.976270</td>\n",
       "      <td>-0.274901</td>\n",
       "      <td>1.077069</td>\n",
       "      <td>1.047610</td>\n",
       "      <td>-1.623899</td>\n",
       "    </tr>\n",
       "    <tr>\n",
       "      <th>143999</th>\n",
       "      <td>-1.066696</td>\n",
       "      <td>0.574003</td>\n",
       "      <td>0.734004</td>\n",
       "      <td>-0.193323</td>\n",
       "      <td>1.137589</td>\n",
       "      <td>-1.140476</td>\n",
       "      <td>0.259117</td>\n",
       "      <td>-0.311392</td>\n",
       "      <td>0.539242</td>\n",
       "      <td>-1.328648</td>\n",
       "      <td>...</td>\n",
       "      <td>1.178294</td>\n",
       "      <td>0.611011</td>\n",
       "      <td>-0.764879</td>\n",
       "      <td>0.865431</td>\n",
       "      <td>1.013876</td>\n",
       "      <td>-0.944122</td>\n",
       "      <td>-0.822167</td>\n",
       "      <td>0.967588</td>\n",
       "      <td>1.408646</td>\n",
       "      <td>-1.780325</td>\n",
       "    </tr>\n",
       "  </tbody>\n",
       "</table>\n",
       "<p>144000 rows × 96 columns</p>\n",
       "</div>"
      ],
      "text/plain": [
       "               0         1         2         3         4         5         6  \\\n",
       "0       0.259048  0.341358  0.692951 -0.379994  0.604933  0.069596  0.402958   \n",
       "1      -0.401631 -0.467680  0.770422 -1.316617  1.141321 -0.549662 -0.048251   \n",
       "2      -0.070129  0.254390  0.910866 -0.377196  2.073473 -0.818220  0.539036   \n",
       "3      -1.324792  0.297993  0.941478 -0.107193  0.658866 -0.661947  0.223350   \n",
       "4      -0.836681 -0.338175  0.985681 -0.349820  1.381007 -0.549897  0.172364   \n",
       "...          ...       ...       ...       ...       ...       ...       ...   \n",
       "143995  0.786474 -1.116792  1.866064 -0.211069  1.210433 -1.014123  0.048828   \n",
       "143996 -0.694452  0.137969  1.075349 -0.332732  1.009307 -1.395666  0.313020   \n",
       "143997 -0.001610  0.169606  0.915487 -0.542644  2.134387 -0.034068  0.559162   \n",
       "143998 -1.563839  0.523623  0.450593 -0.221090  1.612875 -0.599302  0.546911   \n",
       "143999 -1.066696  0.574003  0.734004 -0.193323  1.137589 -1.140476  0.259117   \n",
       "\n",
       "               7         8         9  ...        86        87        88  \\\n",
       "0       0.740904 -0.091567 -1.208656  ...  0.930541  0.953439 -0.046344   \n",
       "1      -0.765220 -0.174378 -1.325902  ... -0.153110  0.789636 -0.040021   \n",
       "2      -0.535451  0.473443 -1.889348  ... -0.425020  0.444765 -0.976778   \n",
       "3      -0.133799  0.651489 -0.753784  ...  0.403546  0.639322 -0.108607   \n",
       "4      -0.488504 -0.606773 -1.462604  ...  0.353195 -0.349938 -0.573265   \n",
       "...          ...       ...       ...  ...       ...       ...       ...   \n",
       "143995 -0.351742  0.617720 -1.132544  ...  0.705925 -0.473457 -0.958785   \n",
       "143996 -0.331536  0.752790 -1.187933  ...  0.436080  0.475656 -1.273695   \n",
       "143997 -0.221646  0.192301 -1.830342  ...  0.052916  0.192306 -1.196737   \n",
       "143998  0.187769  0.453554 -2.049484  ...  0.387889  0.819854 -0.445019   \n",
       "143999 -0.311392  0.539242 -1.328648  ...  1.178294  0.611011 -0.764879   \n",
       "\n",
       "              89        90        91        92        93        94        95  \n",
       "0       0.470298  0.691683 -0.179601 -0.351949  0.602567  0.225874 -0.909140  \n",
       "1      -0.037423  0.008648 -1.487877 -0.255687  2.281488  0.172696 -1.230714  \n",
       "2       0.016354 -1.046900 -1.638016 -0.761511  2.086892  0.455025 -0.587316  \n",
       "3       0.239867  0.366755 -1.025677 -0.624976  1.792124  0.493074 -1.356055  \n",
       "4      -0.213770  0.335208 -2.132044 -0.016554  1.315530  1.141820 -1.830020  \n",
       "...          ...       ...       ...       ...       ...       ...       ...  \n",
       "143995 -0.064294 -0.126806 -0.787464 -0.201556  1.124488 -0.102439 -0.317084  \n",
       "143996  0.771915  0.316371 -1.416980 -0.586176  1.434090  0.834349 -1.220719  \n",
       "143997  0.548500  0.784114 -0.685821 -0.055975  0.477918  0.928023 -0.976702  \n",
       "143998 -0.150274  1.066683 -0.976270 -0.274901  1.077069  1.047610 -1.623899  \n",
       "143999  0.865431  1.013876 -0.944122 -0.822167  0.967588  1.408646 -1.780325  \n",
       "\n",
       "[144000 rows x 96 columns]"
      ]
     },
     "execution_count": 2,
     "metadata": {},
     "output_type": "execute_result"
    }
   ],
   "source": [
    "X_train = pd.read_csv('./Corpus/splited_data/X_train.csv', index_col=0)\n",
    "X_train"
   ]
  },
  {
   "cell_type": "code",
   "execution_count": 4,
   "metadata": {},
   "outputs": [],
   "source": [
    "y_train = pd.read_csv('./Corpus/splited_data/y_train.csv', index_col=None)\n",
    "y_train_genero = y_train[\"genero\"]\n",
    "y_train_profesion = y_train[\"profesion\"]\n",
    "y_train_ideologia_binaria = y_train[\"ideologia_binaria\"]\n",
    "y_train_ideologia_multiclase = y_train[\"ideologia_multiclase\"]"
   ]
  },
  {
   "cell_type": "code",
   "execution_count": 4,
   "metadata": {},
   "outputs": [],
   "source": [
    "from imblearn.over_sampling import SMOTE\n",
    "\n",
    "smote = SMOTE(random_state=42)"
   ]
  },
  {
   "attachments": {},
   "cell_type": "markdown",
   "metadata": {},
   "source": [
    "### Oversampling para Genero"
   ]
  },
  {
   "cell_type": "code",
   "execution_count": 5,
   "metadata": {},
   "outputs": [
    {
     "name": "stderr",
     "output_type": "stream",
     "text": [
      "Exception ignored on calling ctypes callback function: <function _ThreadpoolInfo._find_modules_with_dl_iterate_phdr.<locals>.match_module_callback at 0x7f92e799a050>\n",
      "Traceback (most recent call last):\n",
      "  File \"/home/bruno-rg/anaconda3/envs/nlp/lib/python3.10/site-packages/threadpoolctl.py\", line 400, in match_module_callback\n",
      "    self._make_module_from_path(filepath)\n",
      "  File \"/home/bruno-rg/anaconda3/envs/nlp/lib/python3.10/site-packages/threadpoolctl.py\", line 515, in _make_module_from_path\n",
      "    module = module_class(filepath, prefix, user_api, internal_api)\n",
      "  File \"/home/bruno-rg/anaconda3/envs/nlp/lib/python3.10/site-packages/threadpoolctl.py\", line 606, in __init__\n",
      "    self.version = self.get_version()\n",
      "  File \"/home/bruno-rg/anaconda3/envs/nlp/lib/python3.10/site-packages/threadpoolctl.py\", line 646, in get_version\n",
      "    config = get_config().split()\n",
      "AttributeError: 'NoneType' object has no attribute 'split'\n"
     ]
    },
    {
     "name": "stdout",
     "output_type": "stream",
     "text": [
      "(191248, 96)\n",
      "(191248,)\n"
     ]
    },
    {
     "data": {
      "text/plain": [
       "<Axes: xlabel='genero', ylabel='count'>"
      ]
     },
     "execution_count": 5,
     "metadata": {},
     "output_type": "execute_result"
    },
    {
     "data": {
      "image/png": "[encoded data removed]",
      "text/plain": [
       "<Figure size 640x480 with 1 Axes>"
      ]
     },
     "metadata": {},
     "output_type": "display_data"
    }
   ],
   "source": [
    "X_train_resampled_genero, y_train_resampled_genero = smote.fit_resample(X_train, y_train_genero)\n",
    "print(X_train_resampled_genero.shape)\n",
    "print(y_train_resampled_genero.shape)\n",
    "\n",
    "X_train_resampled_genero.to_csv('./Corpus/resampled_data/X_train_resampled_genero.csv')\n",
    "y_train_resampled_genero.to_csv('./Corpus/resampled_data/y_train_resampled_genero.csv')\n",
    "\n",
    "sns.countplot(x=y_train_resampled_genero)"
   ]
  },
  {
   "attachments": {},
   "cell_type": "markdown",
   "metadata": {},
   "source": [
    "### Oversampling para Profesion"
   ]
  },
  {
   "cell_type": "code",
   "execution_count": 6,
   "metadata": {},
   "outputs": [
    {
     "name": "stderr",
     "output_type": "stream",
     "text": [
      "Exception ignored on calling ctypes callback function: <function _ThreadpoolInfo._find_modules_with_dl_iterate_phdr.<locals>.match_module_callback at 0x7f92e799be20>\n",
      "Traceback (most recent call last):\n",
      "  File \"/home/bruno-rg/anaconda3/envs/nlp/lib/python3.10/site-packages/threadpoolctl.py\", line 400, in match_module_callback\n",
      "    self._make_module_from_path(filepath)\n",
      "  File \"/home/bruno-rg/anaconda3/envs/nlp/lib/python3.10/site-packages/threadpoolctl.py\", line 515, in _make_module_from_path\n",
      "    module = module_class(filepath, prefix, user_api, internal_api)\n",
      "  File \"/home/bruno-rg/anaconda3/envs/nlp/lib/python3.10/site-packages/threadpoolctl.py\", line 606, in __init__\n",
      "    self.version = self.get_version()\n",
      "  File \"/home/bruno-rg/anaconda3/envs/nlp/lib/python3.10/site-packages/threadpoolctl.py\", line 646, in get_version\n",
      "    config = get_config().split()\n",
      "AttributeError: 'NoneType' object has no attribute 'split'\n",
      "Exception ignored on calling ctypes callback function: <function _ThreadpoolInfo._find_modules_with_dl_iterate_phdr.<locals>.match_module_callback at 0x7f9299c9fbe0>\n",
      "Traceback (most recent call last):\n",
      "  File \"/home/bruno-rg/anaconda3/envs/nlp/lib/python3.10/site-packages/threadpoolctl.py\", line 400, in match_module_callback\n",
      "    self._make_module_from_path(filepath)\n",
      "  File \"/home/bruno-rg/anaconda3/envs/nlp/lib/python3.10/site-packages/threadpoolctl.py\", line 515, in _make_module_from_path\n",
      "    module = module_class(filepath, prefix, user_api, internal_api)\n",
      "  File \"/home/bruno-rg/anaconda3/envs/nlp/lib/python3.10/site-packages/threadpoolctl.py\", line 606, in __init__\n",
      "    self.version = self.get_version()\n",
      "  File \"/home/bruno-rg/anaconda3/envs/nlp/lib/python3.10/site-packages/threadpoolctl.py\", line 646, in get_version\n",
      "    config = get_config().split()\n",
      "AttributeError: 'NoneType' object has no attribute 'split'\n"
     ]
    },
    {
     "name": "stdout",
     "output_type": "stream",
     "text": [
      "(265635, 96)\n",
      "(265635,)\n"
     ]
    },
    {
     "data": {
      "text/plain": [
       "<Axes: xlabel='profesion', ylabel='count'>"
      ]
     },
     "execution_count": 6,
     "metadata": {},
     "output_type": "execute_result"
    },
    {
     "data": {
      "image/png": "[encoded data removed]",
      "text/plain": [
       "<Figure size 640x480 with 1 Axes>"
      ]
     },
     "metadata": {},
     "output_type": "display_data"
    }
   ],
   "source": [
    "X_train_resampled_profesion, y_train_resampled_profesion = smote.fit_resample(X_train, y_train_profesion)\n",
    "print(X_train_resampled_profesion.shape)\n",
    "print(y_train_resampled_profesion.shape)\n",
    "\n",
    "X_train_resampled_profesion.to_csv('./Corpus/resampled_data/X_train_resampled_profesion.csv')\n",
    "y_train_resampled_profesion.to_csv('./Corpus/resampled_data/y_train_resampled_profesion.csv')\n",
    "\n",
    "sns.countplot(x=y_train_resampled_profesion)"
   ]
  },
  {
   "attachments": {},
   "cell_type": "markdown",
   "metadata": {},
   "source": [
    "### Oversampling para Ideologia binaria"
   ]
  },
  {
   "cell_type": "code",
   "execution_count": 7,
   "metadata": {},
   "outputs": [
    {
     "name": "stderr",
     "output_type": "stream",
     "text": [
      "Exception ignored on calling ctypes callback function: <function _ThreadpoolInfo._find_modules_with_dl_iterate_phdr.<locals>.match_module_callback at 0x7f9284cc5e10>\n",
      "Traceback (most recent call last):\n",
      "  File \"/home/bruno-rg/anaconda3/envs/nlp/lib/python3.10/site-packages/threadpoolctl.py\", line 400, in match_module_callback\n",
      "    self._make_module_from_path(filepath)\n",
      "  File \"/home/bruno-rg/anaconda3/envs/nlp/lib/python3.10/site-packages/threadpoolctl.py\", line 515, in _make_module_from_path\n",
      "    module = module_class(filepath, prefix, user_api, internal_api)\n",
      "  File \"/home/bruno-rg/anaconda3/envs/nlp/lib/python3.10/site-packages/threadpoolctl.py\", line 606, in __init__\n",
      "    self.version = self.get_version()\n",
      "  File \"/home/bruno-rg/anaconda3/envs/nlp/lib/python3.10/site-packages/threadpoolctl.py\", line 646, in get_version\n",
      "    config = get_config().split()\n",
      "AttributeError: 'NoneType' object has no attribute 'split'\n"
     ]
    },
    {
     "name": "stdout",
     "output_type": "stream",
     "text": [
      "(160592, 96)\n",
      "(160592,)\n"
     ]
    },
    {
     "data": {
      "text/plain": [
       "<Axes: xlabel='ideologia_binaria', ylabel='count'>"
      ]
     },
     "execution_count": 7,
     "metadata": {},
     "output_type": "execute_result"
    },
    {
     "data": {
      "image/png": "[encoded data removed]",
      "text/plain": [
       "<Figure size 640x480 with 1 Axes>"
      ]
     },
     "metadata": {},
     "output_type": "display_data"
    }
   ],
   "source": [
    "X_train_resampled_ideologia_binaria, y_train_resampled_ideologia_binaria = smote.fit_resample(X_train, y_train_ideologia_binaria)\n",
    "print(X_train_resampled_ideologia_binaria.shape)\n",
    "print(y_train_resampled_ideologia_binaria.shape)\n",
    "\n",
    "X_train_resampled_ideologia_binaria.to_csv('./Corpus/resampled_data/X_train_resampled_ideologia_binaria.csv')\n",
    "y_train_resampled_ideologia_binaria.to_csv('./Corpus/resampled_data/y_train_resampled_ideologia_binaria.csv')\n",
    "\n",
    "sns.countplot(x=y_train_resampled_ideologia_binaria)"
   ]
  },
  {
   "attachments": {},
   "cell_type": "markdown",
   "metadata": {},
   "source": [
    "### Oversampling para Ideologia multiclase"
   ]
  },
  {
   "cell_type": "code",
   "execution_count": 8,
   "metadata": {},
   "outputs": [
    {
     "name": "stderr",
     "output_type": "stream",
     "text": [
      "Exception ignored on calling ctypes callback function: <function _ThreadpoolInfo._find_modules_with_dl_iterate_phdr.<locals>.match_module_callback at 0x7f9284a665f0>\n",
      "Traceback (most recent call last):\n",
      "  File \"/home/bruno-rg/anaconda3/envs/nlp/lib/python3.10/site-packages/threadpoolctl.py\", line 400, in match_module_callback\n",
      "    self._make_module_from_path(filepath)\n",
      "  File \"/home/bruno-rg/anaconda3/envs/nlp/lib/python3.10/site-packages/threadpoolctl.py\", line 515, in _make_module_from_path\n",
      "    module = module_class(filepath, prefix, user_api, internal_api)\n",
      "  File \"/home/bruno-rg/anaconda3/envs/nlp/lib/python3.10/site-packages/threadpoolctl.py\", line 606, in __init__\n",
      "    self.version = self.get_version()\n",
      "  File \"/home/bruno-rg/anaconda3/envs/nlp/lib/python3.10/site-packages/threadpoolctl.py\", line 646, in get_version\n",
      "    config = get_config().split()\n",
      "AttributeError: 'NoneType' object has no attribute 'split'\n",
      "Exception ignored on calling ctypes callback function: <function _ThreadpoolInfo._find_modules_with_dl_iterate_phdr.<locals>.match_module_callback at 0x7f9284a669e0>\n",
      "Traceback (most recent call last):\n",
      "  File \"/home/bruno-rg/anaconda3/envs/nlp/lib/python3.10/site-packages/threadpoolctl.py\", line 400, in match_module_callback\n",
      "    self._make_module_from_path(filepath)\n",
      "  File \"/home/bruno-rg/anaconda3/envs/nlp/lib/python3.10/site-packages/threadpoolctl.py\", line 515, in _make_module_from_path\n",
      "    module = module_class(filepath, prefix, user_api, internal_api)\n",
      "  File \"/home/bruno-rg/anaconda3/envs/nlp/lib/python3.10/site-packages/threadpoolctl.py\", line 606, in __init__\n",
      "    self.version = self.get_version()\n",
      "  File \"/home/bruno-rg/anaconda3/envs/nlp/lib/python3.10/site-packages/threadpoolctl.py\", line 646, in get_version\n",
      "    config = get_config().split()\n",
      "AttributeError: 'NoneType' object has no attribute 'split'\n",
      "Exception ignored on calling ctypes callback function: <function _ThreadpoolInfo._find_modules_with_dl_iterate_phdr.<locals>.match_module_callback at 0x7f92e799bd00>\n",
      "Traceback (most recent call last):\n",
      "  File \"/home/bruno-rg/anaconda3/envs/nlp/lib/python3.10/site-packages/threadpoolctl.py\", line 400, in match_module_callback\n",
      "    self._make_module_from_path(filepath)\n",
      "  File \"/home/bruno-rg/anaconda3/envs/nlp/lib/python3.10/site-packages/threadpoolctl.py\", line 515, in _make_module_from_path\n",
      "    module = module_class(filepath, prefix, user_api, internal_api)\n",
      "  File \"/home/bruno-rg/anaconda3/envs/nlp/lib/python3.10/site-packages/threadpoolctl.py\", line 606, in __init__\n",
      "    self.version = self.get_version()\n",
      "  File \"/home/bruno-rg/anaconda3/envs/nlp/lib/python3.10/site-packages/threadpoolctl.py\", line 646, in get_version\n",
      "    config = get_config().split()\n",
      "AttributeError: 'NoneType' object has no attribute 'split'\n"
     ]
    },
    {
     "name": "stdout",
     "output_type": "stream",
     "text": [
      "(211404, 96)\n",
      "(211404,)\n"
     ]
    },
    {
     "data": {
      "text/plain": [
       "<Axes: xlabel='ideologia_multiclase', ylabel='count'>"
      ]
     },
     "execution_count": 8,
     "metadata": {},
     "output_type": "execute_result"
    },
    {
     "data": {
      "image/png": "[encoded data removed]",
      "text/plain": [
       "<Figure size 640x480 with 1 Axes>"
      ]
     },
     "metadata": {},
     "output_type": "display_data"
    }
   ],
   "source": [
    "X_train_resampled_ideologia_multiclase, y_train_resampled_ideologia_multiclase = smote.fit_resample(X_train, y_train_ideologia_multiclase)\n",
    "print(X_train_resampled_ideologia_multiclase.shape)\n",
    "print(y_train_resampled_ideologia_multiclase.shape)\n",
    "\n",
    "X_train_resampled_ideologia_multiclase.to_csv('./Corpus/resampled_data/X_train_resampled_ideologia_multiclase.csv')\n",
    "y_train_resampled_ideologia_multiclase.to_csv('./Corpus/resampled_data/y_train_resampled_ideologia_multiclase.csv')\n",
    "\n",
    "sns.countplot(x=y_train_resampled_ideologia_multiclase)"
   ]
  },
  {
   "attachments": {},
   "cell_type": "markdown",
   "metadata": {},
   "source": [
    "#### Undersampling"
   ]
  },
  {
   "cell_type": "code",
   "execution_count": null,
   "metadata": {},
   "outputs": [],
   "source": [
    "from imblearn.under_sampling import RandomUnderSampler\n",
    "# Aplicar undersampling\n",
    "undersampler = RandomUnderSampler(random_state=42)"
   ]
  },
  {
   "cell_type": "code",
   "execution_count": 6,
   "metadata": {},
   "outputs": [
    {
     "name": "stdout",
     "output_type": "stream",
     "text": [
      "(96752, 96)\n",
      "(96752,)\n"
     ]
    },
    {
     "data": {
      "text/plain": [
       "<Axes: xlabel='genero', ylabel='count'>"
      ]
     },
     "execution_count": 6,
     "metadata": {},
     "output_type": "execute_result"
    },
    {
     "data": {
      "image/png": "[encoded data removed]",
      "text/plain": [
       "<Figure size 640x480 with 1 Axes>"
      ]
     },
     "metadata": {},
     "output_type": "display_data"
    }
   ],
   "source": [
    "X_undersampled_genero, y_undersampled_genero = undersampler.fit_resample(X_train, y_train_genero)\n",
    "\n",
    "# Crear un nuevo DataFrame con los datos undersampled\n",
    "X_undersampled_genero.to_csv('./Corpus/undersampling_data/X_undersampled_genero.csv')\n",
    "y_undersampled_genero.to_csv('./Corpus/undersampling_data/y_undersampled_genero.csv')\n",
    "\n",
    "print(X_undersampled_genero.shape)\n",
    "print(y_undersampled_genero.shape)\n",
    "\n",
    "sns.countplot(x=y_undersampled_genero)"
   ]
  },
  {
   "cell_type": "code",
   "execution_count": 7,
   "metadata": {},
   "outputs": [
    {
     "name": "stdout",
     "output_type": "stream",
     "text": [
      "(21594, 96)\n",
      "(21594,)\n"
     ]
    },
    {
     "data": {
      "text/plain": [
       "<Axes: xlabel='profesion', ylabel='count'>"
      ]
     },
     "execution_count": 7,
     "metadata": {},
     "output_type": "execute_result"
    },
    {
     "data": {
      "image/png": "[encoded data removed]",
      "text/plain": [
       "<Figure size 640x480 with 1 Axes>"
      ]
     },
     "metadata": {},
     "output_type": "display_data"
    }
   ],
   "source": [
    "X_undersampled_profesion, y_undersampled_profesion = undersampler.fit_resample(X_train, y_train_profesion)\n",
    "\n",
    "# Crear un nuevo DataFrame con los datos undersampled\n",
    "X_undersampled_profesion.to_csv('./Corpus/undersampling_data/X_undersampled_profesion.csv')\n",
    "y_undersampled_profesion.to_csv('./Corpus/undersampling_data/y_undersampled_profesion.csv')\n",
    "\n",
    "print(X_undersampled_profesion.shape)\n",
    "print(y_undersampled_profesion.shape)\n",
    "\n",
    "sns.countplot(x=y_undersampled_profesion)"
   ]
  },
  {
   "cell_type": "code",
   "execution_count": 8,
   "metadata": {},
   "outputs": [
    {
     "name": "stdout",
     "output_type": "stream",
     "text": [
      "(127408, 96)\n",
      "(127408,)\n"
     ]
    },
    {
     "data": {
      "text/plain": [
       "<Axes: xlabel='ideologia_binaria', ylabel='count'>"
      ]
     },
     "execution_count": 8,
     "metadata": {},
     "output_type": "execute_result"
    },
    {
     "data": {
      "image/png": "[encoded data removed]",
      "text/plain": [
       "<Figure size 640x480 with 1 Axes>"
      ]
     },
     "metadata": {},
     "output_type": "display_data"
    }
   ],
   "source": [
    "X_undersampled_ideologia_binaria, y_undersampled_ideologia_binaria = undersampler.fit_resample(X_train, y_train_ideologia_binaria)\n",
    "\n",
    "# Crear un nuevo DataFrame con los datos undersampled\n",
    "X_undersampled_ideologia_binaria.to_csv('./Corpus/undersampling_data/X_undersampled_ideologia_binaria.csv')\n",
    "y_undersampled_ideologia_binaria.to_csv('./Corpus/undersampling_data/y_undersampled_ideologia_binaria.csv')\n",
    "\n",
    "print(X_undersampled_ideologia_binaria.shape)\n",
    "print(y_undersampled_ideologia_binaria.shape)\n",
    "\n",
    "sns.countplot(x=y_undersampled_ideologia_binaria)"
   ]
  },
  {
   "cell_type": "code",
   "execution_count": 9,
   "metadata": {},
   "outputs": [
    {
     "name": "stdout",
     "output_type": "stream",
     "text": [
      "(68424, 96)\n",
      "(68424,)\n"
     ]
    },
    {
     "data": {
      "text/plain": [
       "<Axes: xlabel='ideologia_multiclase', ylabel='count'>"
      ]
     },
     "execution_count": 9,
     "metadata": {},
     "output_type": "execute_result"
    },
    {
     "data": {
      "image/png": "[encoded data removed]",
      "text/plain": [
       "<Figure size 640x480 with 1 Axes>"
      ]
     },
     "metadata": {},
     "output_type": "display_data"
    }
   ],
   "source": [
    "X_undersampled_ideologia_multiclase, y_undersampled_ideologia_multiclase = undersampler.fit_resample(X_train, y_train_ideologia_multiclase)\n",
    "\n",
    "# Crear un nuevo DataFrame con los datos undersampled\n",
    "X_undersampled_ideologia_multiclase.to_csv('./Corpus/undersampling_data/X_undersampled_ideologia_multiclase.csv')\n",
    "y_undersampled_ideologia_multiclase.to_csv('./Corpus/undersampling_data/y_undersampled_ideologia_multiclase.csv')\n",
    "\n",
    "print(X_undersampled_ideologia_multiclase.shape)\n",
    "print(y_undersampled_ideologia_multiclase.shape)\n",
    "\n",
    "sns.countplot(x=y_undersampled_ideologia_multiclase)"
   ]
  }
 ],
 "metadata": {
  "kernelspec": {
   "display_name": "nlp",
   "language": "python",
   "name": "python3"
  },
  "language_info": {
   "codemirror_mode": {
    "name": "ipython",
    "version": 3
   },
   "file_extension": ".py",
   "mimetype": "text/x-python",
   "name": "python",
   "nbconvert_exporter": "python",
   "pygments_lexer": "ipython3",
   "version": "3.10.9"
  },
  "orig_nbformat": 4
 },
 "nbformat": 4,
 "nbformat_minor": 2
}
