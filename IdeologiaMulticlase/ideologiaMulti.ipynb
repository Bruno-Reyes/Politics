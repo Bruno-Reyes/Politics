{
  "nbformat": 4,
  "nbformat_minor": 0,
  "metadata": {
    "colab": {
      "provenance": []
    },
    "kernelspec": {
      "name": "python3",
      "display_name": "Python 3"
    },
    "language_info": {
      "name": "python"
    }
  },
  "cells": [
    {
      "cell_type": "code",
      "execution_count": null,
      "metadata": {
        "colab": {
          "base_uri": "https://localhost:8080/"
        },
        "id": "E2YgC2dvQVVi",
        "outputId": "f38fb259-fe44-4b1e-e693-1e44849091bf"
      },
      "outputs": [
        {
          "output_type": "stream",
          "name": "stdout",
          "text": [
            "(68424, 96)\n",
            "(68424, 1)\n",
            "(36000, 96)\n",
            "(36000,)\n"
          ]
        },
        {
          "output_type": "stream",
          "name": "stderr",
          "text": [
            "/usr/local/lib/python3.10/dist-packages/sklearn/utils/validation.py:1143: DataConversionWarning: A column-vector y was passed when a 1d array was expected. Please change the shape of y to (n_samples, ), for example using ravel().\n",
            "  y = column_or_1d(y, warn=True)\n"
          ]
        },
        {
          "output_type": "stream",
          "name": "stdout",
          "text": [
            "0.29825\n",
            "0.3587780998812437\n",
            "0.30751317437140857\n",
            "0.29825\n"
          ]
        }
      ],
      "source": [
        "# Importamos librerias\n",
        "import pandas as pd\n",
        "import seaborn as sns\n",
        "import matplotlib.pyplot as plt\n",
        "import numpy as np\n",
        "from sklearn.svm import SVC\n",
        "from sklearn.metrics import accuracy_score, f1_score, precision_score, recall_score\n",
        "from sklearn.preprocessing import LabelEncoder\n",
        "\n",
        "# Datos de entrenamiento\n",
        "X_train = pd.read_csv('/content/X_undersampled_ideologia_multiclase.csv', index_col=0)\n",
        "y_train = pd.read_csv('/content/y_undersampled_ideologia_multiclase.csv', index_col=0)\n",
        "\n",
        "X_test = pd.read_csv('/content/X_test.csv', index_col=0)\n",
        "y_test = pd.read_csv('/content/y_test.csv', index_col=None)\n",
        "y_test = y_test[\"ideologia_multiclase\"]\n",
        "\n",
        "print(X_train.shape)\n",
        "print(y_train.shape)\n",
        "print(X_test.shape)\n",
        "print(y_test.shape)\n",
        "\n",
        "\n",
        "# SVM con kernel RBF para clasificación multiclase (one-vs-one)\n",
        "clf_ovo = SVC(kernel='rbf', decision_function_shape='ovo')\n",
        "clf_ovo.fit(X_train, y_train)\n",
        "y_pred_ovo = clf_ovo.predict(X_test)\n",
        "\n",
        "print(accuracy_score(y_test, y_pred_ovo))\n",
        "print(precision_score(y_test, y_pred_ovo, average='weighted'))\n",
        "print(f1_score(y_test, y_pred_ovo, average='weighted'))\n",
        "print(recall_score(y_test, y_pred_ovo, average='weighted'))\n"
      ]
    },
    {
      "cell_type": "code",
      "source": [
        "from sklearn.linear_model import LogisticRegression\n",
        "# Regresión logística para clasificación multiclase\n",
        "clf = LogisticRegression()\n",
        "clf.fit(X_train, y_train)\n",
        "y_pred = clf.predict(X_test)\n",
        "\n",
        "print(accuracy_score(y_test, y_pred))\n",
        "print(precision_score(y_test, y_pred, average='weighted'))\n",
        "print(f1_score(y_test, y_pred, average='weighted'))\n",
        "print(recall_score(y_test, y_pred, average='weighted'))"
      ],
      "metadata": {
        "colab": {
          "base_uri": "https://localhost:8080/"
        },
        "id": "kPEsYwAjYEda",
        "outputId": "d272819e-0f88-4299-f6b7-b3e2e57f5f4d"
      },
      "execution_count": null,
      "outputs": [
        {
          "output_type": "stream",
          "name": "stderr",
          "text": [
            "/usr/local/lib/python3.10/dist-packages/sklearn/utils/validation.py:1143: DataConversionWarning: A column-vector y was passed when a 1d array was expected. Please change the shape of y to (n_samples, ), for example using ravel().\n",
            "  y = column_or_1d(y, warn=True)\n"
          ]
        },
        {
          "output_type": "stream",
          "name": "stdout",
          "text": [
            "0.29080555555555554\n",
            "0.34070396751254517\n",
            "0.2989308470065672\n",
            "0.29080555555555554\n"
          ]
        },
        {
          "output_type": "stream",
          "name": "stderr",
          "text": [
            "/usr/local/lib/python3.10/dist-packages/sklearn/linear_model/_logistic.py:458: ConvergenceWarning: lbfgs failed to converge (status=1):\n",
            "STOP: TOTAL NO. of ITERATIONS REACHED LIMIT.\n",
            "\n",
            "Increase the number of iterations (max_iter) or scale the data as shown in:\n",
            "    https://scikit-learn.org/stable/modules/preprocessing.html\n",
            "Please also refer to the documentation for alternative solver options:\n",
            "    https://scikit-learn.org/stable/modules/linear_model.html#logistic-regression\n",
            "  n_iter_i = _check_optimize_result(\n"
          ]
        }
      ]
    },
    {
      "cell_type": "code",
      "source": [
        "# Árbol de decisión para clasificación multiclase\n",
        "from sklearn.tree import DecisionTreeClassifier\n",
        "clf = DecisionTreeClassifier()\n",
        "clf.fit(X_train, y_train)\n",
        "y_pred = clf.predict(X_test)\n",
        "print(accuracy_score(y_test, y_pred))\n",
        "print(precision_score(y_test, y_pred, average='weighted'))\n",
        "print(f1_score(y_test, y_pred, average='weighted'))\n",
        "print(recall_score(y_test, y_pred, average='weighted'))"
      ],
      "metadata": {
        "colab": {
          "base_uri": "https://localhost:8080/"
        },
        "id": "w_avBDh1aFun",
        "outputId": "91d1e523-855c-4723-ed10-2f6aad3a4166"
      },
      "execution_count": null,
      "outputs": [
        {
          "output_type": "stream",
          "name": "stdout",
          "text": [
            "0.26230555555555557\n",
            "0.2996531830662624\n",
            "0.27201596938832967\n",
            "0.26230555555555557\n"
          ]
        }
      ]
    },
    {
      "cell_type": "code",
      "source": [
        "from sklearn.ensemble import GradientBoostingClassifier\n",
        "# Gradient Boosting para clasificación multiclase\n",
        "clf = GradientBoostingClassifier()\n",
        "clf.fit(X_train, y_train)\n",
        "y_pred = clf.predict(X_test)\n",
        "print(accuracy_score(y_test, y_pred))\n",
        "print(precision_score(y_test, y_pred, average='weighted'))\n",
        "print(f1_score(y_test, y_pred, average='weighted'))\n",
        "print(recall_score(y_test, y_pred, average='weighted'))"
      ],
      "metadata": {
        "colab": {
          "base_uri": "https://localhost:8080/"
        },
        "id": "rerjii5saGQR",
        "outputId": "60ea44a3-e1cf-4652-ded1-34e0389cc125"
      },
      "execution_count": null,
      "outputs": [
        {
          "output_type": "stream",
          "name": "stderr",
          "text": [
            "/usr/local/lib/python3.10/dist-packages/sklearn/ensemble/_gb.py:437: DataConversionWarning: A column-vector y was passed when a 1d array was expected. Please change the shape of y to (n_samples, ), for example using ravel().\n",
            "  y = column_or_1d(y, warn=True)\n"
          ]
        },
        {
          "output_type": "stream",
          "name": "stdout",
          "text": [
            "0.2846666666666667\n",
            "0.3406831878764466\n",
            "0.29295754654262196\n",
            "0.2846666666666667\n"
          ]
        }
      ]
    },
    {
      "cell_type": "code",
      "source": [
        "print(accuracy_score(y_test, y_pred))\n",
        "print(precision_score(y_test, y_pred, average='weighted'))\n",
        "print(f1_score(y_test, y_pred, average='weighted'))\n",
        "print(recall_score(y_test, y_pred, average='weighted'))"
      ],
      "metadata": {
        "colab": {
          "base_uri": "https://localhost:8080/"
        },
        "id": "r4woaDHYmCrr",
        "outputId": "766ee24b-7525-4f84-e85e-78ccc325d31a"
      },
      "execution_count": null,
      "outputs": [
        {
          "output_type": "stream",
          "name": "stdout",
          "text": [
            "0.2846666666666667\n",
            "0.3406918051012589\n",
            "0.29296041436808684\n",
            "0.2846666666666667\n"
          ]
        }
      ]
    }
  ]
}