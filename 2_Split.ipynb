{
 "cells": [
  {
   "cell_type": "code",
   "execution_count": 57,
   "metadata": {},
   "outputs": [],
   "source": [
    "# Importamos librerias\n",
    "import pandas as pd\n",
    "import seaborn as sns\n",
    "import spacy\n",
    "nlp = spacy.load(\"es_core_news_sm\")\n",
    "import numpy as np"
   ]
  },
  {
   "cell_type": "code",
   "execution_count": 58,
   "metadata": {},
   "outputs": [
    {
     "data": {
      "text/html": [
       "<div>\n",
       "<style scoped>\n",
       "    .dataframe tbody tr th:only-of-type {\n",
       "        vertical-align: middle;\n",
       "    }\n",
       "\n",
       "    .dataframe tbody tr th {\n",
       "        vertical-align: top;\n",
       "    }\n",
       "\n",
       "    .dataframe thead th {\n",
       "        text-align: right;\n",
       "    }\n",
       "</style>\n",
       "<table border=\"1\" class=\"dataframe\">\n",
       "  <thead>\n",
       "    <tr style=\"text-align: right;\">\n",
       "      <th></th>\n",
       "      <th>tweets</th>\n",
       "      <th>genero</th>\n",
       "      <th>profesion</th>\n",
       "      <th>ideologia_binaria</th>\n",
       "      <th>ideologia_multiclase</th>\n",
       "    </tr>\n",
       "  </thead>\n",
       "  <tbody>\n",
       "    <tr>\n",
       "      <th>0</th>\n",
       "      <td>feliz febrero andaluza andaluz andalucía donde...</td>\n",
       "      <td>0</td>\n",
       "      <td>2</td>\n",
       "      <td>0</td>\n",
       "      <td>0</td>\n",
       "    </tr>\n",
       "    <tr>\n",
       "      <th>1</th>\n",
       "      <td>feliz año nuevo feliz esperanzo querido allá ir</td>\n",
       "      <td>0</td>\n",
       "      <td>2</td>\n",
       "      <td>0</td>\n",
       "      <td>0</td>\n",
       "    </tr>\n",
       "    <tr>\n",
       "      <th>2</th>\n",
       "      <td>placer encontrar yo homólogo alemán compartir ...</td>\n",
       "      <td>0</td>\n",
       "      <td>2</td>\n",
       "      <td>0</td>\n",
       "      <td>0</td>\n",
       "    </tr>\n",
       "    <tr>\n",
       "      <th>3</th>\n",
       "      <td>conflicto ucrania haber suponer dramático para...</td>\n",
       "      <td>0</td>\n",
       "      <td>2</td>\n",
       "      <td>0</td>\n",
       "      <td>0</td>\n",
       "    </tr>\n",
       "    <tr>\n",
       "      <th>4</th>\n",
       "      <td>academia llingua asturiana realizar trabajo gr...</td>\n",
       "      <td>0</td>\n",
       "      <td>2</td>\n",
       "      <td>0</td>\n",
       "      <td>0</td>\n",
       "    </tr>\n",
       "    <tr>\n",
       "      <th>...</th>\n",
       "      <td>...</td>\n",
       "      <td>...</td>\n",
       "      <td>...</td>\n",
       "      <td>...</td>\n",
       "      <td>...</td>\n",
       "    </tr>\n",
       "    <tr>\n",
       "      <th>179995</th>\n",
       "      <td>inicio yo escalda militar inicio denunciamos é...</td>\n",
       "      <td>1</td>\n",
       "      <td>2</td>\n",
       "      <td>0</td>\n",
       "      <td>0</td>\n",
       "    </tr>\n",
       "    <tr>\n",
       "      <th>179996</th>\n",
       "      <td>menos minuto haber tratar analizar envío tanqu...</td>\n",
       "      <td>1</td>\n",
       "      <td>2</td>\n",
       "      <td>0</td>\n",
       "      <td>0</td>\n",
       "    </tr>\n",
       "    <tr>\n",
       "      <th>179997</th>\n",
       "      <td>fantasma recorrer euskal herria estado ser fan...</td>\n",
       "      <td>1</td>\n",
       "      <td>2</td>\n",
       "      <td>0</td>\n",
       "      <td>0</td>\n",
       "    </tr>\n",
       "    <tr>\n",
       "      <th>179998</th>\n",
       "      <td>aquí dejar reflexión hoy diario</td>\n",
       "      <td>1</td>\n",
       "      <td>2</td>\n",
       "      <td>0</td>\n",
       "      <td>0</td>\n",
       "    </tr>\n",
       "    <tr>\n",
       "      <th>179999</th>\n",
       "      <td>no él tratar sobreactuar condenar palabra que ...</td>\n",
       "      <td>1</td>\n",
       "      <td>2</td>\n",
       "      <td>0</td>\n",
       "      <td>0</td>\n",
       "    </tr>\n",
       "  </tbody>\n",
       "</table>\n",
       "<p>180000 rows × 5 columns</p>\n",
       "</div>"
      ],
      "text/plain": [
       "                                                   tweets  genero  profesion  \\\n",
       "0       feliz febrero andaluza andaluz andalucía donde...       0          2   \n",
       "1         feliz año nuevo feliz esperanzo querido allá ir       0          2   \n",
       "2       placer encontrar yo homólogo alemán compartir ...       0          2   \n",
       "3       conflicto ucrania haber suponer dramático para...       0          2   \n",
       "4       academia llingua asturiana realizar trabajo gr...       0          2   \n",
       "...                                                   ...     ...        ...   \n",
       "179995  inicio yo escalda militar inicio denunciamos é...       1          2   \n",
       "179996  menos minuto haber tratar analizar envío tanqu...       1          2   \n",
       "179997  fantasma recorrer euskal herria estado ser fan...       1          2   \n",
       "179998                    aquí dejar reflexión hoy diario       1          2   \n",
       "179999  no él tratar sobreactuar condenar palabra que ...       1          2   \n",
       "\n",
       "        ideologia_binaria  ideologia_multiclase  \n",
       "0                       0                     0  \n",
       "1                       0                     0  \n",
       "2                       0                     0  \n",
       "3                       0                     0  \n",
       "4                       0                     0  \n",
       "...                   ...                   ...  \n",
       "179995                  0                     0  \n",
       "179996                  0                     0  \n",
       "179997                  0                     0  \n",
       "179998                  0                     0  \n",
       "179999                  0                     0  \n",
       "\n",
       "[180000 rows x 5 columns]"
      ]
     },
     "execution_count": 58,
     "metadata": {},
     "output_type": "execute_result"
    }
   ],
   "source": [
    "politicES = pd.read_csv('./Corpus/normaliced_data/politicES.csv', index_col=0)\n",
    "politicES"
   ]
  },
  {
   "cell_type": "code",
   "execution_count": 59,
   "metadata": {},
   "outputs": [
    {
     "name": "stdout",
     "output_type": "stream",
     "text": [
      "X entrenamiento: (144000,), y entrenamiento: (144000, 4)\n",
      "X prueba: (36000,), y prueba: (36000, 4)\n"
     ]
    }
   ],
   "source": [
    "from sklearn.model_selection import train_test_split\n",
    "X = politicES[\"tweets\"]\n",
    "y = politicES[[\"genero\", \"profesion\", \"ideologia_binaria\", \"ideologia_multiclase\"]]\n",
    " \n",
    "X_train, X_test, y_train, y_test = train_test_split(X, y, test_size=0.2, random_state=2)\n",
    "\n",
    "print('X entrenamiento: {}, y entrenamiento: {}\\nX prueba: {}, y prueba: {}'.format(X_train.shape,y_train.shape, X_test.shape, y_test.shape))"
   ]
  },
  {
   "cell_type": "code",
   "execution_count": 45,
   "metadata": {},
   "outputs": [],
   "source": [
    "\n",
    "# Creamos el vectorizador y lo usamos para ajustarlo a nuestros datos.\n",
    "def embeddings_with_spacy( tweets : pd.core.series.Series):\n",
    "    embeddings = []\n",
    "    # Getting the embedding vector for a document\n",
    "    for message in tweets.values:\n",
    "        doc = nlp(message)\n",
    "        vector = doc.vector\n",
    "        embeddings.append(vector)\n",
    "\n",
    "    embeddings = np.array(embeddings)\n",
    "\n",
    "    return pd.DataFrame(embeddings)\n",
    "    #df_w2v['Labels'] = df['Labels'].values\n",
    "\n",
    "X_train_embeddings = embeddings_with_spacy(X_train)\n",
    "X_test_embeddings = embeddings_with_spacy(X_test)"
   ]
  },
  {
   "cell_type": "code",
   "execution_count": 49,
   "metadata": {},
   "outputs": [],
   "source": [
    "X_train_embeddings.to_csv('./Corpus/splited_data/X_train.csv')\n",
    "X_test_embeddings.to_csv('./Corpus/splited_data/X_test.csv')"
   ]
  },
  {
   "cell_type": "code",
   "execution_count": 60,
   "metadata": {},
   "outputs": [],
   "source": [
    "y_train.to_csv('./Corpus/splited_data/y_train.csv', index=False)\n",
    "y_test.to_csv('./Corpus/splited_data/y_test.csv', index = False)"
   ]
  },
  {
   "cell_type": "code",
   "execution_count": 53,
   "metadata": {},
   "outputs": [
    {
     "data": {
      "text/plain": [
       "<Axes: xlabel='genero', ylabel='count'>"
      ]
     },
     "execution_count": 53,
     "metadata": {},
     "output_type": "execute_result"
    },
    {
     "data": {
      "image/png": "[encoded data removed]",
      "text/plain": [
       "<Figure size 640x480 with 1 Axes>"
      ]
     },
     "metadata": {},
     "output_type": "display_data"
    }
   ],
   "source": [
    "sns.countplot(x=y_train[\"genero\"])"
   ]
  },
  {
   "cell_type": "code",
   "execution_count": 54,
   "metadata": {},
   "outputs": [
    {
     "data": {
      "text/plain": [
       "<Axes: xlabel='profesion', ylabel='count'>"
      ]
     },
     "execution_count": 54,
     "metadata": {},
     "output_type": "execute_result"
    },
    {
     "data": {
      "image/png": "[encoded data removed]",
      "text/plain": [
       "<Figure size 640x480 with 1 Axes>"
      ]
     },
     "metadata": {},
     "output_type": "display_data"
    }
   ],
   "source": [
    "sns.countplot(x=y_train[\"profesion\"])"
   ]
  },
  {
   "cell_type": "code",
   "execution_count": 55,
   "metadata": {},
   "outputs": [
    {
     "data": {
      "text/plain": [
       "<Axes: xlabel='ideologia_multiclase', ylabel='count'>"
      ]
     },
     "execution_count": 55,
     "metadata": {},
     "output_type": "execute_result"
    },
    {
     "data": {
      "image/png": "[encoded data removed]",
      "text/plain": [
       "<Figure size 640x480 with 1 Axes>"
      ]
     },
     "metadata": {},
     "output_type": "display_data"
    }
   ],
   "source": [
    "sns.countplot(x=y_train[\"ideologia_binaria\"])"
   ]
  },
  {
   "cell_type": "code",
   "execution_count": 56,
   "metadata": {},
   "outputs": [
    {
     "data": {
      "text/plain": [
       "<Axes: xlabel='ideologia_multiclase', ylabel='count'>"
      ]
     },
     "execution_count": 56,
     "metadata": {},
     "output_type": "execute_result"
    },
    {
     "data": {
      "image/png": "[encoded data removed]",
      "text/plain": [
       "<Figure size 640x480 with 1 Axes>"
      ]
     },
     "metadata": {},
     "output_type": "display_data"
    }
   ],
   "source": [
    "sns.countplot(x=y_train[\"ideologia_multiclase\"])"
   ]
  }
 ],
 "metadata": {
  "kernelspec": {
   "display_name": "nlp",
   "language": "python",
   "name": "python3"
  },
  "language_info": {
   "codemirror_mode": {
    "name": "ipython",
    "version": 3
   },
   "file_extension": ".py",
   "mimetype": "text/x-python",
   "name": "python",
   "nbconvert_exporter": "python",
   "pygments_lexer": "ipython3",
   "version": "3.10.9"
  },
  "orig_nbformat": 4
 },
 "nbformat": 4,
 "nbformat_minor": 2
}
