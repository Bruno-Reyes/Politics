{
  "cells": [
    {
      "cell_type": "code",
      "execution_count": 1,
      "metadata": {
        "id": "cTF0hjRvTP7W"
      },
      "outputs": [],
      "source": [
        "import pandas as pd"
      ]
    },
    {
      "cell_type": "code",
      "execution_count": 6,
      "metadata": {
        "colab": {
          "base_uri": "https://localhost:8080/"
        },
        "id": "fctll0l5RE0X",
        "outputId": "24d582da-7151-4d57-c11b-47e8bc5b483a"
      },
      "outputs": [
        {
          "name": "stdout",
          "output_type": "stream",
          "text": [
            "ideologia izquierda:  100400\n",
            "ideologia derecha:  79600\n"
          ]
        }
      ],
      "source": [
        "data = pd.read_csv(\"politicES.csv\")\n",
        "#Contar la ideologia izquierda\n",
        "iz_count = data[\"ideologia_binaria\"].value_counts()[0]\n",
        "# Contar la ideologia derecha\n",
        "der_count = data[\"ideologia_binaria\"].value_counts()[1]\n",
        "print(\"ideologia izquierda: \", iz_count)\n",
        "print(\"ideologia derecha: \", der_count)\n",
        "\n"
      ]
    },
    {
      "cell_type": "code",
      "execution_count": 8,
      "metadata": {
        "colab": {
          "base_uri": "https://localhost:8080/"
        },
        "id": "WpJBjnTvTX7k",
        "outputId": "18629587-8451-4cd9-fca0-6cf0e0288061"
      },
      "outputs": [
        {
          "name": "stdout",
          "output_type": "stream",
          "text": [
            "ideologia izquierda:  25000\n",
            "ideologia derecha:  25000\n"
          ]
        }
      ],
      "source": [
        "# seleccionamos datos de forma equitativa.\n",
        "izquierda = data[data['ideologia_binaria'] == 0].head(25000)\n",
        "derecha =   data[data['ideologia_binaria'] == 1].head(25000)\n",
        "# Concatenar los resultados en un único DataFrame\n",
        "data = pd.concat([izquierda, derecha])\n",
        "\n",
        "#iz_count = data[\"ideologia_binaria\"].value_counts()[0]\n",
        "# Contar la ideologia derecha\n",
        "#der_count = data[\"ideologia_binaria\"].value_counts()[1]\n",
        "#print(\"ideologia izquierda: \", iz_count)\n",
        "#print(\"ideologia derecha: \", der_count)"
      ]
    },
    {
      "cell_type": "code",
      "execution_count": 11,
      "metadata": {
        "colab": {
          "base_uri": "https://localhost:8080/"
        },
        "id": "NRbfHOC_Wr-k",
        "outputId": "f48ccc06-b1cd-4195-b958-fd1f22e45a5e"
      },
      "outputs": [
        {
          "name": "stdout",
          "output_type": "stream",
          "text": [
            "k-fold cross-validation LR: 65.8625%\n"
          ]
        }
      ],
      "source": [
        "from sklearn.model_selection import train_test_split\n",
        "from sklearn.feature_extraction.text import TfidfVectorizer\n",
        "from sklearn.linear_model import LogisticRegression\n",
        "from sklearn.preprocessing import LabelEncoder\n",
        "from sklearn.model_selection import KFold\n",
        "from sklearn.model_selection import cross_val_score\n",
        "import numpy as np\n",
        "\n",
        "# Se divide el conjunto de entrenamiento y de orueba\n",
        "x_train, x_test, y_train, y_test = train_test_split(data['tweets'], data['ideologia_binaria'], test_size= 0.2, random_state=42)\n",
        "\n",
        "# Se crea una instancia de TfidfVectorizer() y se asigna a la variable vectorized\n",
        "vectorized = TfidfVectorizer()\n",
        "# x_train_tfidf se obtiene al aplicar el método fit_transform() de vectorized a los datos de entrenamiento x_train\n",
        "x_train_tfidf = vectorized.fit_transform(x_train)\n",
        "x_test_tfidf = vectorized.transform(x_test)\n",
        "\n",
        "# Se crea una instancia de LabelEncoder() y se asigna a la variable le.\n",
        "le = LabelEncoder()\n",
        "y_train = le.fit_transform(y_train)\n",
        "y_test = le.transform(y_test)\n",
        "\n",
        "lr_model = LogisticRegression(max_iter=500)\n",
        "# Se ajustan los datos al modelo\n",
        "lr_model.fit(x_train_tfidf, y_train)\n",
        "# Se utiliza el modelo ya ajustado para predecir los tatos de prueba y se evalua\n",
        "#lr_score = lr_model.score(x_test_tfidf,y_test)\n",
        "# Se imprime la presición del modelo\n",
        "#print(f'Accuracy Regresión Logística: {lr_score}')\n",
        "\n",
        "#Se crea un objeto KFold con 5 divisiones (n_splits=5) que se utilizará para dividir los datos en 5 conjuntos diferentes\n",
        "kf = KFold(n_splits=5, shuffle=True, random_state=42)\n",
        "\n",
        "# Se aplica la validación cruzada al modelo de regresión logística\n",
        "lr_scores = cross_val_score(lr_model, x_train_tfidf, y_train, cv=kf)\n",
        "# Imprimimos los resultados de la validación cruzada\n",
        "print(f\"k-fold cross-validation LR: {np.mean(lr_scores)*100:.4f}%\")\n"
      ]
    }
  ],
  "metadata": {
    "colab": {
      "provenance": []
    },
    "kernelspec": {
      "display_name": "Python 3",
      "name": "python3"
    },
    "language_info": {
      "name": "python"
    }
  },
  "nbformat": 4,
  "nbformat_minor": 0
}
