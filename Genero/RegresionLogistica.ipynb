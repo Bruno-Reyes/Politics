{
 "cells": [
  {
   "cell_type": "code",
   "execution_count": 1,
   "metadata": {},
   "outputs": [],
   "source": [
    "import pandas as pd \n",
    "import numpy as np\n",
    "from sklearn.model_selection import StratifiedKFold\n",
    "from sklearn.model_selection import KFold\n",
    "from sklearn.model_selection import cross_val_score\n",
    "from sklearn.linear_model import LogisticRegression\n",
    "from sklearn.metrics import accuracy_score, precision_score, f1_score, recall_score"
   ]
  },
  {
   "cell_type": "code",
   "execution_count": 4,
   "metadata": {},
   "outputs": [],
   "source": [
    "def Regresion(solver, penalty):\n",
    "    lr_model = LogisticRegression(penalty=penalty, solver=solver, max_iter=300)\n",
    "    # Se ajustan los datos al modelo\n",
    "    lr_model.fit(X_train, y_train)\n",
    "\n",
    "    predictions = lr_model.predict(X_test)\n",
    "\n",
    "    # Calcular la exactitud\n",
    "    exactitud = round(accuracy_score(y_test, predictions),2)\n",
    "    print(\"Exactitud:\", exactitud)\n",
    "\n",
    "    return exactitud\n",
    "\n",
    "    \"\"\"# Calcular la preci sión\n",
    "    precision = round(precision_score(y_test, predictions),2)\n",
    "    print(\"Precisión:\", precision)\n",
    "\n",
    "    # Calcular la puntuación F1\n",
    "    f1 = round(f1_score(y_test, predictions),2)\n",
    "    print(\"Puntuación F1:\", f1)\n",
    "\n",
    "    # Calcular la recall\n",
    "    recall = round(recall_score(y_test, predictions),2)\n",
    "    print(\"Recall:\", recall)\"\"\""
   ]
  },
  {
   "cell_type": "code",
   "execution_count": 9,
   "metadata": {},
   "outputs": [],
   "source": [
    "parameters = {\n",
    "    'lbfgs' : ['l2', None],\n",
    "    'liblinear' : ['l1', 'l2'],\n",
    "    'newton-cg' : ['l2', None],\n",
    "    'newton-cholesky' : ['l2', None],\n",
    "    'sag' : ['l2', None]\n",
    "}"
   ]
  },
  {
   "cell_type": "code",
   "execution_count": null,
   "metadata": {},
   "outputs": [],
   "source": [
    "# Datos de entrenamiento\n",
    "X_train = pd.read_csv('../Corpus/resampled_data/X_train_resampled_genero.csv', index_col=0)\n",
    "y_train = pd.read_csv('../Corpus/resampled_data/y_train_resampled_genero.csv', index_col=0)\n",
    "\n",
    "X_test = pd.read_csv('../Corpus/splited_data/X_test.csv', index_col=0)\n",
    "y_test = pd.read_csv('../Corpus/splited_data/y_test.csv', index_col=0)\n",
    "y_test = y_test[\"genero\"]\n",
    "print(X_train.shape)\n",
    "print(y_train.shape)\n",
    "\n",
    "print(X_test.shape)\n",
    "print(y_test.shape)\n",
    "\n",
    "y_train = y_train.values.ravel()\n",
    "y_test = y_test.values.ravel()\n",
    "\n",
    "reporte = ''\n",
    "for param in parameters:\n",
    "    for penal in parameters[param]:\n",
    "        exactitud = Regresion(param, penal)\n",
    "        reporte += 'Solver: {} & Penalty: {}, Exactitud: {}\\n'.format(param, penal,exactitud)\n",
    "\n",
    "archivo = open('./ReporteLR.txt', mode='w', encoding='utf-8')\n",
    "archivo.write(reporte)\n",
    "archivo.close()"
   ]
  },
  {
   "cell_type": "code",
   "execution_count": 16,
   "metadata": {},
   "outputs": [
    {
     "name": "stdout",
     "output_type": "stream",
     "text": [
      "(144000, 96)\n",
      "(144000,)\n",
      "(36000, 96)\n",
      "(36000,)\n",
      "Exactitud: 0.66\n",
      "Exactitud: 0.66\n",
      "Exactitud: 0.66\n",
      "Exactitud: 0.66\n",
      "Exactitud: 0.66\n",
      "Exactitud: 0.66\n",
      "Exactitud: 0.66\n",
      "Exactitud: 0.66\n",
      "Exactitud: 0.66\n",
      "Exactitud: 0.66\n"
     ]
    }
   ],
   "source": [
    "# Datos de entrenamiento\n",
    "X_train = pd.read_csv('../Corpus/splited_data/X_train.csv', index_col=0)\n",
    "y_train = pd.read_csv('../Corpus/splited_data/y_train.csv', index_col=0)\n",
    "\n",
    "X_test = pd.read_csv('../Corpus/splited_data/X_test.csv', index_col=0)\n",
    "y_test = pd.read_csv('../Corpus/splited_data/y_test.csv', index_col=0)\n",
    "y_train = y_train[\"genero\"]\n",
    "y_test = y_test[\"genero\"]\n",
    "print(X_train.shape)\n",
    "print(y_train.shape)\n",
    "\n",
    "print(X_test.shape)\n",
    "print(y_test.shape)\n",
    "y_train = y_train.values.ravel()\n",
    "y_test = y_test.values.ravel()\n",
    "\n",
    "reporte = ''\n",
    "for param in parameters:\n",
    "    for penal in parameters[param]:\n",
    "        exactitud = Regresion(param, penal)\n",
    "        reporte += 'Solver: {} & Penalty: {}, Exactitud: {}\\n'.format(param, penal,exactitud)\n",
    "\n",
    "archivo = open('./ReporteLRNS.txt', mode='w', encoding='utf-8')\n",
    "archivo.write(reporte)\n",
    "archivo.close()"
   ]
  },
  {
   "cell_type": "code",
   "execution_count": 4,
   "metadata": {},
   "outputs": [
    {
     "name": "stdout",
     "output_type": "stream",
     "text": [
      "(96752, 96)\n",
      "(96752, 1)\n",
      "(36000, 96)\n",
      "(36000,)\n",
      "Exactitud: 0.54\n",
      "Exactitud: 0.54\n",
      "Exactitud: 0.54\n",
      "Exactitud: 0.54\n",
      "Exactitud: 0.54\n",
      "Exactitud: 0.54\n",
      "Exactitud: 0.54\n",
      "Exactitud: 0.54\n",
      "Exactitud: 0.54\n",
      "Exactitud: 0.54\n"
     ]
    }
   ],
   "source": [
    "# Datos de entrenamiento\n",
    "X_train = pd.read_csv('../Corpus/undersampling_data/X_undersampled_genero.csv', index_col=0)\n",
    "y_train = pd.read_csv('../Corpus/undersampling_data/y_undersampled_genero.csv', index_col=0)\n",
    "\n",
    "X_test = pd.read_csv('../Corpus/splited_data/X_test.csv', index_col=0)\n",
    "y_test = pd.read_csv('../Corpus/splited_data/y_test.csv', index_col=None)\n",
    "\n",
    "y_test = y_test[\"genero\"]\n",
    "print(X_train.shape)\n",
    "print(y_train.shape)\n",
    "\n",
    "print(X_test.shape)\n",
    "print(y_test.shape)\n",
    "\n",
    "y_train = y_train.values.ravel()\n",
    "y_test = y_test.values.ravel()\n",
    "\n",
    "reporte = 'Datos truncados\\n'\n",
    "for param in parameters:\n",
    "    for penal in parameters[param]:\n",
    "        exactitud = Regresion(param, penal)\n",
    "        reporte += 'Solver: {} & Penalty: {}, Exactitud: {}\\n'.format(param, penal,exactitud)\n",
    "\n",
    "archivo = open('./ReporteLR_undersampling.txt', mode='w', encoding='utf-8')\n",
    "archivo.write(reporte)\n",
    "archivo.close()"
   ]
  },
  {
   "attachments": {},
   "cell_type": "markdown",
   "metadata": {},
   "source": [
    "# PCA"
   ]
  },
  {
   "cell_type": "code",
   "execution_count": 11,
   "metadata": {},
   "outputs": [
    {
     "name": "stdout",
     "output_type": "stream",
     "text": [
      "(96752, 2)\n",
      "(96752,)\n",
      "(36000, 2)\n",
      "(36000,)\n",
      "Exactitud: 0.51\n",
      "Exactitud: 0.51\n",
      "Exactitud: 0.51\n",
      "Exactitud: 0.51\n",
      "Exactitud: 0.51\n",
      "Exactitud: 0.51\n",
      "Exactitud: 0.51\n",
      "Exactitud: 0.51\n",
      "Exactitud: 0.51\n",
      "Exactitud: 0.51\n"
     ]
    }
   ],
   "source": [
    "# Datos de entrenamiento\n",
    "data = pd.read_csv('../Corpus/pca_data/PCA2_genero.csv', index_col=0)\n",
    "\n",
    "X_test = pd.read_csv('../Corpus/pca_data/PCA2_x_test_genero.csv', index_col=0)\n",
    "y_test = pd.read_csv('../Corpus/splited_data/y_test.csv', index_col=None)\n",
    "\n",
    "y_test = y_test[\"genero\"]\n",
    "\n",
    "X_train = data[[\"C1\",\"C2\"]]\n",
    "y_train = data[\"genero\"]\n",
    "print(X_train.shape)\n",
    "print(y_train.shape)\n",
    "\n",
    "print(X_test.shape)\n",
    "print(y_test.shape)\n",
    "\n",
    "y_train = y_train.values.ravel()\n",
    "y_test = y_test.values.ravel()\n",
    "\n",
    "reporte = 'Datos PCA 2\\n'\n",
    "for param in parameters:\n",
    "    for penal in parameters[param]:\n",
    "        exactitud = Regresion(param, penal)\n",
    "        reporte += 'Solver: {} & Penalty: {}, Exactitud: {}\\n'.format(param, penal,exactitud)\n",
    "\n",
    "archivo = open('./ReporteLR_undersampling.txt', mode='w', encoding='utf-8')\n",
    "archivo.write(reporte)\n",
    "archivo.close()"
   ]
  }
 ],
 "metadata": {
  "kernelspec": {
   "display_name": "nlp",
   "language": "python",
   "name": "python3"
  },
  "language_info": {
   "codemirror_mode": {
    "name": "ipython",
    "version": 3
   },
   "file_extension": ".py",
   "mimetype": "text/x-python",
   "name": "python",
   "nbconvert_exporter": "python",
   "pygments_lexer": "ipython3",
   "version": "3.10.9"
  },
  "orig_nbformat": 4
 },
 "nbformat": 4,
 "nbformat_minor": 2
}
