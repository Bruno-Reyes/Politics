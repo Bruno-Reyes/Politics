{
 "cells": [
  {
   "cell_type": "code",
   "execution_count": 3,
   "metadata": {},
   "outputs": [],
   "source": [
    "# Importamos librerias  \n",
    "import pandas as pd\n",
    "import seaborn as sns\n",
    "import matplotlib.pyplot as plt\n",
    "import numpy as np\n",
    "from sklearn.svm import SVC, LinearSVC\n",
    "from sklearn.metrics import accuracy_score, f1_score , precision_score, recall_score"
   ]
  },
  {
   "cell_type": "code",
   "execution_count": 4,
   "metadata": {},
   "outputs": [
    {
     "name": "stdout",
     "output_type": "stream",
     "text": [
      "(191248, 96)\n",
      "(191248, 1)\n",
      "(36000, 96)\n",
      "(36000,)\n"
     ]
    }
   ],
   "source": [
    "# Datos de entrenamiento\n",
    "X_train = pd.read_csv('../Corpus/resampled_data/X_train_resampled_genero.csv', index_col=0)\n",
    "y_train = pd.read_csv('../Corpus/resampled_data/y_train_resampled_genero.csv', index_col=0)\n",
    "\n",
    "X_test = pd.read_csv('../Corpus/splited_data/X_test.csv', index_col=0)\n",
    "y_test = pd.read_csv('../Corpus/splited_data/y_test.csv', index_col=None)\n",
    "y_test = y_test[\"genero\"]\n",
    "print(X_train.shape)\n",
    "print(y_train.shape)\n",
    "\n",
    "print(X_test.shape)\n",
    "print(y_test.shape)\n",
    "\n",
    "y_train = y_train.values.ravel()\n",
    "y_test = y_test.values.ravel()"
   ]
  },
  {
   "cell_type": "code",
   "execution_count": 5,
   "metadata": {},
   "outputs": [
    {
     "name": "stdout",
     "output_type": "stream",
     "text": [
      "0.5387222222222222\n",
      "0.6952025124539745\n",
      "0.6072746192413205\n",
      "0.5390913671481357\n"
     ]
    },
    {
     "name": "stderr",
     "output_type": "stream",
     "text": [
      "/home/bruno-rg/anaconda3/envs/nlp/lib/python3.10/site-packages/sklearn/svm/_base.py:1244: ConvergenceWarning: Liblinear failed to converge, increase the number of iterations.\n",
      "  warnings.warn(\n"
     ]
    }
   ],
   "source": [
    "# SVM lineal\n",
    "clf_linear_svc = LinearSVC()\n",
    "clf_linear_svc.fit(X_train, y_train)\n",
    "y_pred_linear_svc = clf_linear_svc.predict(X_test)\n",
    "\n",
    "print(accuracy_score(y_test, y_pred_linear_svc))\n",
    "print(precision_score(y_test, y_pred_linear_svc))\n",
    "print(f1_score(y_test, y_pred_linear_svc))\n",
    "print(recall_score(y_test, y_pred_linear_svc))"
   ]
  },
  {
   "cell_type": "code",
   "execution_count": 6,
   "metadata": {},
   "outputs": [
    {
     "name": "stdout",
     "output_type": "stream",
     "text": [
      "0.5209444444444444\n",
      "0.6940571833648393\n",
      "0.5767229530728452\n",
      "0.4933238159220692\n"
     ]
    }
   ],
   "source": [
    "# SVM con kernel RBF\n",
    "clf_rbf = SVC(kernel='rbf')\n",
    "clf_rbf.fit(X_train, y_train)\n",
    "y_pred_rbf = clf_rbf.predict(X_test)\n",
    "\n",
    "print(accuracy_score(y_test, y_pred_rbf))\n",
    "print(precision_score(y_test, y_pred_rbf))\n",
    "print(f1_score(y_test, y_pred_rbf))\n",
    "print(recall_score(y_test, y_pred_rbf))"
   ]
  },
  {
   "cell_type": "code",
   "execution_count": 7,
   "metadata": {},
   "outputs": [
    {
     "name": "stdout",
     "output_type": "stream",
     "text": [
      "0.49594444444444447\n",
      "0.6576050700466978\n",
      "0.5659267055784136\n",
      "0.49668290225058787\n"
     ]
    }
   ],
   "source": [
    "# SVM con kernel sigmoidal\n",
    "clf_sigmoid = SVC(kernel='sigmoid')\n",
    "clf_sigmoid.fit(X_train, y_train)\n",
    "y_pred_sigmoid = clf_sigmoid.predict(X_test)\n",
    "\n",
    "print(accuracy_score(y_test, y_pred_sigmoid))\n",
    "print(precision_score(y_test, y_pred_sigmoid))\n",
    "print(f1_score(y_test, y_pred_sigmoid))\n",
    "print(recall_score(y_test, y_pred_sigmoid))"
   ]
  },
  {
   "cell_type": "code",
   "execution_count": 8,
   "metadata": {},
   "outputs": [
    {
     "name": "stdout",
     "output_type": "stream",
     "text": [
      "0.5038055555555555\n",
      "0.7003163066155192\n",
      "0.538125404007757\n",
      "0.43693315418206247\n"
     ]
    }
   ],
   "source": [
    "# SVM con kernel polinomial\n",
    "clf_poly = SVC(kernel='poly')\n",
    "clf_poly.fit(X_train, y_train)\n",
    "y_pred_poly = clf_poly.predict(X_test)\n",
    "\n",
    "print(accuracy_score(y_test, y_pred_poly))\n",
    "print(precision_score(y_test, y_pred_poly))\n",
    "print(f1_score(y_test, y_pred_poly))\n",
    "print(recall_score(y_test, y_pred_poly))"
   ]
  }
 ],
 "metadata": {
  "kernelspec": {
   "display_name": "nlp",
   "language": "python",
   "name": "python3"
  },
  "language_info": {
   "codemirror_mode": {
    "name": "ipython",
    "version": 3
   },
   "file_extension": ".py",
   "mimetype": "text/x-python",
   "name": "python",
   "nbconvert_exporter": "python",
   "pygments_lexer": "ipython3",
   "version": "3.10.9"
  },
  "orig_nbformat": 4
 },
 "nbformat": 4,
 "nbformat_minor": 2
}
