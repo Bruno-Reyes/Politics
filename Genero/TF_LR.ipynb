{
  "cells": [
    {
      "cell_type": "code",
      "execution_count": 1,
      "metadata": {
        "id": "cTF0hjRvTP7W"
      },
      "outputs": [],
      "source": [
        "import pandas as pd\n",
        "from sklearn.model_selection import train_test_split\n",
        "from sklearn.feature_extraction.text import TfidfVectorizer\n",
        "from sklearn.linear_model import LogisticRegression\n",
        "from sklearn.preprocessing import LabelEncoder\n",
        "from sklearn.model_selection import KFold\n",
        "from sklearn.model_selection import cross_val_score\n",
        "import numpy as np\n",
        "from sklearn.metrics import accuracy_score, precision_score, f1_score, recall_score"
      ]
    },
    {
      "cell_type": "code",
      "execution_count": 2,
      "metadata": {
        "colab": {
          "base_uri": "https://localhost:8080/"
        },
        "id": "fctll0l5RE0X",
        "outputId": "24d582da-7151-4d57-c11b-47e8bc5b483a"
      },
      "outputs": [
        {
          "name": "stdout",
          "output_type": "stream",
          "text": [
            "(180000,)\n",
            "(180000,)\n"
          ]
        }
      ],
      "source": [
        "data = pd.read_csv('../Corpus/normaliced_data/politicES.csv', index_col=0)\n",
        "\n",
        "X = data['tweets']\n",
        "\n",
        "y = data['genero']\n",
        "\n",
        "print(X.shape)\n",
        "print(y.shape)"
      ]
    },
    {
      "cell_type": "code",
      "execution_count": 3,
      "metadata": {},
      "outputs": [
        {
          "name": "stdout",
          "output_type": "stream",
          "text": [
            "X entrenamiento: (144000,), y entrenamiento: (144000,)\n",
            "X prueba: (36000,), y prueba: (36000,)\n"
          ]
        }
      ],
      "source": [
        "# Se divide el conjunto de entrenamiento y de orueba\n",
        "X_train, X_test, y_train, y_test = train_test_split(X, y, test_size= 0.2, random_state=42)\n",
        "\n",
        "print('X entrenamiento: {}, y entrenamiento: {}\\nX prueba: {}, y prueba: {}'.format(X_train.shape,y_train.shape, X_test.shape, y_test.shape))"
      ]
    },
    {
      "cell_type": "code",
      "execution_count": 4,
      "metadata": {},
      "outputs": [],
      "source": [
        "y_train = y_train.values.ravel()\n",
        "y_test = y_test.values.ravel()"
      ]
    },
    {
      "cell_type": "code",
      "execution_count": 5,
      "metadata": {},
      "outputs": [
        {
          "name": "stdout",
          "output_type": "stream",
          "text": [
            "TF-IDF:\n",
            "X entrenamiento: (144000, 77038) X prueba: (36000, 77038)\n"
          ]
        }
      ],
      "source": [
        "# Se crea una instancia de TfidfVectorizer() y se asigna a la variable vectorized\n",
        "vectorized = TfidfVectorizer()\n",
        "# x_train_tfidf se obtiene al aplicar el método fit_transform() de vectorized a los datos de entrenamiento x_train\n",
        "x_train_tfidf = vectorized.fit_transform(X_train)\n",
        "x_test_tfidf = vectorized.transform(X_test)\n",
        "\n",
        "print('TF-IDF:\\nX entrenamiento: {} X prueba: {}'.format(x_train_tfidf.shape, x_test_tfidf.shape))"
      ]
    },
    {
      "cell_type": "code",
      "execution_count": 6,
      "metadata": {},
      "outputs": [
        {
          "name": "stderr",
          "output_type": "stream",
          "text": [
            "Exception ignored on calling ctypes callback function: <function _ThreadpoolInfo._find_modules_with_dl_iterate_phdr.<locals>.match_module_callback at 0x7f91e3f8e320>\n",
            "Traceback (most recent call last):\n",
            "  File \"/home/bruno-rg/anaconda3/envs/nlp/lib/python3.10/site-packages/threadpoolctl.py\", line 400, in match_module_callback\n",
            "    self._make_module_from_path(filepath)\n",
            "  File \"/home/bruno-rg/anaconda3/envs/nlp/lib/python3.10/site-packages/threadpoolctl.py\", line 515, in _make_module_from_path\n",
            "    module = module_class(filepath, prefix, user_api, internal_api)\n",
            "  File \"/home/bruno-rg/anaconda3/envs/nlp/lib/python3.10/site-packages/threadpoolctl.py\", line 606, in __init__\n",
            "    self.version = self.get_version()\n",
            "  File \"/home/bruno-rg/anaconda3/envs/nlp/lib/python3.10/site-packages/threadpoolctl.py\", line 646, in get_version\n",
            "    config = get_config().split()\n",
            "AttributeError: 'NoneType' object has no attribute 'split'\n"
          ]
        },
        {
          "name": "stdout",
          "output_type": "stream",
          "text": [
            "(191098, 77038)\n",
            "(191098,)\n"
          ]
        }
      ],
      "source": [
        "from imblearn.over_sampling import SMOTE\n",
        "\n",
        "smote = SMOTE(random_state=42)\n",
        "\n",
        "X_train_oversampled_genero, y_train_oversampled_genero = smote.fit_resample(x_train_tfidf, y_train)\n",
        "print(X_train_oversampled_genero.shape)\n",
        "print(y_train_oversampled_genero.shape)"
      ]
    },
    {
      "cell_type": "code",
      "execution_count": 7,
      "metadata": {},
      "outputs": [
        {
          "name": "stdout",
          "output_type": "stream",
          "text": [
            "(96902, 77038)\n",
            "(96902,)\n"
          ]
        }
      ],
      "source": [
        "from imblearn.under_sampling import RandomUnderSampler\n",
        "# Aplicar undersampling\n",
        "undersampler = RandomUnderSampler(random_state=42)\n",
        "\n",
        "X_undersampled_genero, y_undersampled_genero = undersampler.fit_resample(x_train_tfidf, y_train)\n",
        "print(X_undersampled_genero.shape)\n",
        "print(y_undersampled_genero.shape)"
      ]
    },
    {
      "cell_type": "code",
      "execution_count": 8,
      "metadata": {
        "colab": {
          "base_uri": "https://localhost:8080/"
        },
        "id": "NRbfHOC_Wr-k",
        "outputId": "f48ccc06-b1cd-4195-b958-fd1f22e45a5e"
      },
      "outputs": [],
      "source": [
        "def Regresion(solver, penalty, x_t, y_t, x_tst, y_tst):\n",
        "    lr_model = LogisticRegression(penalty=penalty, solver=solver, max_iter=1000)\n",
        "    # Se ajustan los datos al modelo\n",
        "    lr_model.fit(x_t, y_t)\n",
        "\n",
        "    predictions = lr_model.predict(x_tst)\n",
        "\n",
        "    # Calcular la exactitud\n",
        "    print(solver)\n",
        "    print(penalty)\n",
        "    exactitud = round(accuracy_score(y_tst, predictions),2)\n",
        "    presicion = round(precision_score(y_tst, predictions),2)\n",
        "    f1 = round(f1_score(y_tst, predictions),2)\n",
        "    recall = round(recall_score(y_tst, predictions),2)\n",
        "\n",
        "    print(\"Exactitud:\", exactitud)\n",
        "    print(\"Precision:\", presicion)\n",
        "    print(\"F1:\", f1)\n",
        "    print(\"Recall:\", recall)"
      ]
    },
    {
      "cell_type": "code",
      "execution_count": 9,
      "metadata": {},
      "outputs": [],
      "source": [
        "parameters = {\n",
        "    'lbfgs' : ['l2', None],\n",
        "    'liblinear' : ['l1', 'l2'],\n",
        "    'newton-cg' : ['l2', None],\n",
        "}"
      ]
    },
    {
      "cell_type": "code",
      "execution_count": 10,
      "metadata": {},
      "outputs": [
        {
          "name": "stdout",
          "output_type": "stream",
          "text": [
            "lbfgs\n",
            "l2\n",
            "Exactitud: 0.69\n",
            "Precision: 0.71\n",
            "F1: 0.8\n",
            "Recall: 0.9\n"
          ]
        },
        {
          "name": "stderr",
          "output_type": "stream",
          "text": [
            "/home/bruno-rg/anaconda3/envs/nlp/lib/python3.10/site-packages/sklearn/linear_model/_logistic.py:458: ConvergenceWarning: lbfgs failed to converge (status=1):\n",
            "STOP: TOTAL NO. of ITERATIONS REACHED LIMIT.\n",
            "\n",
            "Increase the number of iterations (max_iter) or scale the data as shown in:\n",
            "    https://scikit-learn.org/stable/modules/preprocessing.html\n",
            "Please also refer to the documentation for alternative solver options:\n",
            "    https://scikit-learn.org/stable/modules/linear_model.html#logistic-regression\n",
            "  n_iter_i = _check_optimize_result(\n"
          ]
        },
        {
          "name": "stdout",
          "output_type": "stream",
          "text": [
            "lbfgs\n",
            "None\n",
            "Exactitud: 0.65\n",
            "Precision: 0.73\n",
            "F1: 0.74\n",
            "Recall: 0.75\n",
            "liblinear\n",
            "l1\n",
            "Exactitud: 0.69\n",
            "Precision: 0.71\n",
            "F1: 0.8\n",
            "Recall: 0.91\n",
            "liblinear\n",
            "l2\n",
            "Exactitud: 0.69\n",
            "Precision: 0.71\n",
            "F1: 0.8\n",
            "Recall: 0.9\n",
            "newton-cg\n",
            "l2\n",
            "Exactitud: 0.69\n",
            "Precision: 0.71\n",
            "F1: 0.8\n",
            "Recall: 0.9\n",
            "newton-cg\n",
            "None\n",
            "Exactitud: 0.65\n",
            "Precision: 0.72\n",
            "F1: 0.74\n",
            "Recall: 0.75\n"
          ]
        },
        {
          "name": "stderr",
          "output_type": "stream",
          "text": [
            "/home/bruno-rg/anaconda3/envs/nlp/lib/python3.10/site-packages/sklearn/utils/optimize.py:210: ConvergenceWarning: newton-cg failed to converge. Increase the number of iterations.\n",
            "  warnings.warn(\n"
          ]
        }
      ],
      "source": [
        "# Sin balanceo de clase\n",
        "for param in parameters:\n",
        "    for penal in parameters[param]:\n",
        "        Regresion(param, penal, x_train_tfidf, y_train, x_test_tfidf, y_test)"
      ]
    },
    {
      "cell_type": "code",
      "execution_count": 11,
      "metadata": {},
      "outputs": [
        {
          "name": "stdout",
          "output_type": "stream",
          "text": [
            "lbfgs\n",
            "l2\n",
            "Exactitud: 0.65\n",
            "Precision: 0.77\n",
            "F1: 0.72\n",
            "Recall: 0.68\n"
          ]
        },
        {
          "name": "stderr",
          "output_type": "stream",
          "text": [
            "/home/bruno-rg/anaconda3/envs/nlp/lib/python3.10/site-packages/sklearn/linear_model/_logistic.py:458: ConvergenceWarning: lbfgs failed to converge (status=1):\n",
            "STOP: TOTAL NO. of ITERATIONS REACHED LIMIT.\n",
            "\n",
            "Increase the number of iterations (max_iter) or scale the data as shown in:\n",
            "    https://scikit-learn.org/stable/modules/preprocessing.html\n",
            "Please also refer to the documentation for alternative solver options:\n",
            "    https://scikit-learn.org/stable/modules/linear_model.html#logistic-regression\n",
            "  n_iter_i = _check_optimize_result(\n"
          ]
        },
        {
          "name": "stdout",
          "output_type": "stream",
          "text": [
            "lbfgs\n",
            "None\n",
            "Exactitud: 0.62\n",
            "Precision: 0.74\n",
            "F1: 0.7\n",
            "Recall: 0.66\n",
            "liblinear\n",
            "l1\n",
            "Exactitud: 0.64\n",
            "Precision: 0.77\n",
            "F1: 0.71\n",
            "Recall: 0.66\n",
            "liblinear\n",
            "l2\n",
            "Exactitud: 0.65\n",
            "Precision: 0.77\n",
            "F1: 0.72\n",
            "Recall: 0.68\n",
            "newton-cg\n",
            "l2\n",
            "Exactitud: 0.65\n",
            "Precision: 0.77\n",
            "F1: 0.72\n",
            "Recall: 0.68\n",
            "newton-cg\n",
            "None\n",
            "Exactitud: 0.62\n",
            "Precision: 0.74\n",
            "F1: 0.7\n",
            "Recall: 0.66\n"
          ]
        },
        {
          "name": "stderr",
          "output_type": "stream",
          "text": [
            "/home/bruno-rg/anaconda3/envs/nlp/lib/python3.10/site-packages/sklearn/utils/optimize.py:210: ConvergenceWarning: newton-cg failed to converge. Increase the number of iterations.\n",
            "  warnings.warn(\n"
          ]
        }
      ],
      "source": [
        "# Oversampling \n",
        "for param in parameters:\n",
        "    for penal in parameters[param]:\n",
        "        Regresion(param, penal, X_train_oversampled_genero, y_train_oversampled_genero, x_test_tfidf, y_test)"
      ]
    },
    {
      "cell_type": "code",
      "execution_count": 12,
      "metadata": {},
      "outputs": [
        {
          "name": "stdout",
          "output_type": "stream",
          "text": [
            "lbfgs\n",
            "l2\n",
            "Exactitud: 0.64\n",
            "Precision: 0.78\n",
            "F1: 0.7\n",
            "Recall: 0.64\n"
          ]
        },
        {
          "name": "stderr",
          "output_type": "stream",
          "text": [
            "/home/bruno-rg/anaconda3/envs/nlp/lib/python3.10/site-packages/sklearn/linear_model/_logistic.py:458: ConvergenceWarning: lbfgs failed to converge (status=1):\n",
            "STOP: TOTAL NO. of ITERATIONS REACHED LIMIT.\n",
            "\n",
            "Increase the number of iterations (max_iter) or scale the data as shown in:\n",
            "    https://scikit-learn.org/stable/modules/preprocessing.html\n",
            "Please also refer to the documentation for alternative solver options:\n",
            "    https://scikit-learn.org/stable/modules/linear_model.html#logistic-regression\n",
            "  n_iter_i = _check_optimize_result(\n"
          ]
        },
        {
          "name": "stdout",
          "output_type": "stream",
          "text": [
            "lbfgs\n",
            "None\n",
            "Exactitud: 0.59\n",
            "Precision: 0.74\n",
            "F1: 0.65\n",
            "Recall: 0.58\n",
            "liblinear\n",
            "l1\n",
            "Exactitud: 0.63\n",
            "Precision: 0.77\n",
            "F1: 0.69\n",
            "Recall: 0.63\n",
            "liblinear\n",
            "l2\n",
            "Exactitud: 0.64\n",
            "Precision: 0.78\n",
            "F1: 0.7\n",
            "Recall: 0.64\n",
            "newton-cg\n",
            "l2\n",
            "Exactitud: 0.64\n",
            "Precision: 0.78\n",
            "F1: 0.7\n",
            "Recall: 0.64\n",
            "newton-cg\n",
            "None\n",
            "Exactitud: 0.58\n",
            "Precision: 0.74\n",
            "F1: 0.65\n",
            "Recall: 0.58\n"
          ]
        },
        {
          "name": "stderr",
          "output_type": "stream",
          "text": [
            "/home/bruno-rg/anaconda3/envs/nlp/lib/python3.10/site-packages/sklearn/utils/optimize.py:210: ConvergenceWarning: newton-cg failed to converge. Increase the number of iterations.\n",
            "  warnings.warn(\n"
          ]
        }
      ],
      "source": [
        "# Undersampling\n",
        "for param in parameters:\n",
        "    for penal in parameters[param]:\n",
        "        Regresion(param, penal, X_undersampled_genero, y_undersampled_genero, x_test_tfidf, y_test)"
      ]
    }
  ],
  "metadata": {
    "colab": {
      "provenance": []
    },
    "kernelspec": {
      "display_name": "Python 3",
      "name": "python3"
    },
    "language_info": {
      "codemirror_mode": {
        "name": "ipython",
        "version": 3
      },
      "file_extension": ".py",
      "mimetype": "text/x-python",
      "name": "python",
      "nbconvert_exporter": "python",
      "pygments_lexer": "ipython3",
      "version": "3.10.9"
    }
  },
  "nbformat": 4,
  "nbformat_minor": 0
}
