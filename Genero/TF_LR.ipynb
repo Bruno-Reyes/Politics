{
  "cells": [
    {
      "cell_type": "code",
      "execution_count": 9,
      "metadata": {
        "id": "cTF0hjRvTP7W"
      },
      "outputs": [],
      "source": [
        "import pandas as pd\n",
        "from sklearn.model_selection import train_test_split\n",
        "from sklearn.feature_extraction.text import TfidfVectorizer\n",
        "from sklearn.linear_model import LogisticRegression\n",
        "from sklearn.preprocessing import LabelEncoder\n",
        "from sklearn.model_selection import KFold\n",
        "from sklearn.model_selection import cross_val_score\n",
        "import numpy as np\n",
        "from sklearn.metrics import accuracy_score, precision_score, f1_score, recall_score"
      ]
    },
    {
      "cell_type": "code",
      "execution_count": 2,
      "metadata": {
        "colab": {
          "base_uri": "https://localhost:8080/"
        },
        "id": "fctll0l5RE0X",
        "outputId": "24d582da-7151-4d57-c11b-47e8bc5b483a"
      },
      "outputs": [
        {
          "name": "stdout",
          "output_type": "stream",
          "text": [
            "(180000,)\n",
            "(180000,)\n"
          ]
        }
      ],
      "source": [
        "data = pd.read_csv('../Corpus/normaliced_data/politicES.csv', index_col=0)\n",
        "\n",
        "X = data['tweets']\n",
        "\n",
        "y = data['genero']\n",
        "\n",
        "print(X.shape)\n",
        "print(y.shape)"
      ]
    },
    {
      "cell_type": "code",
      "execution_count": 3,
      "metadata": {},
      "outputs": [
        {
          "name": "stdout",
          "output_type": "stream",
          "text": [
            "X entrenamiento: (144000,), y entrenamiento: (144000,)\n",
            "X prueba: (36000,), y prueba: (36000,)\n"
          ]
        }
      ],
      "source": [
        "# Se divide el conjunto de entrenamiento y de orueba\n",
        "X_train, X_test, y_train, y_test = train_test_split(X, y, test_size= 0.2, random_state=42)\n",
        "\n",
        "print('X entrenamiento: {}, y entrenamiento: {}\\nX prueba: {}, y prueba: {}'.format(X_train.shape,y_train.shape, X_test.shape, y_test.shape))"
      ]
    },
    {
      "attachments": {},
      "cell_type": "markdown",
      "metadata": {},
      "source": [
        "y_train = y_train.values.ravel()\n",
        "y_test = y_test.values.ravel()"
      ]
    },
    {
      "cell_type": "code",
      "execution_count": 4,
      "metadata": {},
      "outputs": [
        {
          "name": "stdout",
          "output_type": "stream",
          "text": [
            "TF-IDF:\n",
            "X entrenamiento: (144000, 77038) X prueba: (36000, 77038)\n"
          ]
        }
      ],
      "source": [
        "# Se crea una instancia de TfidfVectorizer() y se asigna a la variable vectorized\n",
        "vectorized = TfidfVectorizer()\n",
        "# x_train_tfidf se obtiene al aplicar el método fit_transform() de vectorized a los datos de entrenamiento x_train\n",
        "x_train_tfidf = vectorized.fit_transform(X_train)\n",
        "x_test_tfidf = vectorized.transform(X_test)\n",
        "\n",
        "print('TF-IDF:\\nX entrenamiento: {} X prueba: {}'.format(x_train_tfidf.shape, x_test_tfidf.shape))"
      ]
    },
    {
      "cell_type": "code",
      "execution_count": 5,
      "metadata": {},
      "outputs": [
        {
          "name": "stderr",
          "output_type": "stream",
          "text": [
            "Exception ignored on calling ctypes callback function: <function _ThreadpoolInfo._find_modules_with_dl_iterate_phdr.<locals>.match_module_callback at 0x7fdc52706200>\n",
            "Traceback (most recent call last):\n",
            "  File \"/home/bruno-rg/anaconda3/envs/nlp/lib/python3.10/site-packages/threadpoolctl.py\", line 400, in match_module_callback\n",
            "    self._make_module_from_path(filepath)\n",
            "  File \"/home/bruno-rg/anaconda3/envs/nlp/lib/python3.10/site-packages/threadpoolctl.py\", line 515, in _make_module_from_path\n",
            "    module = module_class(filepath, prefix, user_api, internal_api)\n",
            "  File \"/home/bruno-rg/anaconda3/envs/nlp/lib/python3.10/site-packages/threadpoolctl.py\", line 606, in __init__\n",
            "    self.version = self.get_version()\n",
            "  File \"/home/bruno-rg/anaconda3/envs/nlp/lib/python3.10/site-packages/threadpoolctl.py\", line 646, in get_version\n",
            "    config = get_config().split()\n",
            "AttributeError: 'NoneType' object has no attribute 'split'\n"
          ]
        },
        {
          "name": "stdout",
          "output_type": "stream",
          "text": [
            "(191098, 77038)\n",
            "(191098,)\n"
          ]
        }
      ],
      "source": [
        "from imblearn.over_sampling import SMOTE\n",
        "\n",
        "smote = SMOTE(random_state=42)\n",
        "\n",
        "X_train_oversampled_genero, y_train_oversampled_genero = smote.fit_resample(x_train_tfidf, y_train)\n",
        "print(X_train_oversampled_genero.shape)\n",
        "print(y_train_oversampled_genero.shape)"
      ]
    },
    {
      "cell_type": "code",
      "execution_count": 8,
      "metadata": {},
      "outputs": [
        {
          "name": "stdout",
          "output_type": "stream",
          "text": [
            "(96902, 77038)\n",
            "(96902,)\n"
          ]
        }
      ],
      "source": [
        "from imblearn.under_sampling import RandomUnderSampler\n",
        "# Aplicar undersampling\n",
        "undersampler = RandomUnderSampler(random_state=42)\n",
        "\n",
        "X_undersampled_genero, y_undersampled_genero = undersampler.fit_resample(x_train_tfidf, y_train)\n",
        "print(X_undersampled_genero.shape)\n",
        "print(y_undersampled_genero.shape)"
      ]
    },
    {
      "cell_type": "code",
      "execution_count": 6,
      "metadata": {
        "colab": {
          "base_uri": "https://localhost:8080/"
        },
        "id": "NRbfHOC_Wr-k",
        "outputId": "f48ccc06-b1cd-4195-b958-fd1f22e45a5e"
      },
      "outputs": [
        {
          "data": {
            "text/plain": [
              "'\\nlr_model = LogisticRegression(max_iter=500)\\n# Se ajustan los datos al modelo\\nlr_model.fit(x_train_tfidf, y_train)\\n# Se utiliza el modelo ya ajustado para predecir los tatos de prueba y se evalua\\n#lr_score = lr_model.score(x_test_tfidf,y_test)\\n# Se imprime la presición del modelo\\n#print(f\\'Accuracy Regresión Logística: {lr_score}\\')\\n\\n#Se crea un objeto KFold con 5 divisiones (n_splits=5) que se utilizará para dividir los datos en 5 conjuntos diferentes\\nkf = KFold(n_splits=5, shuffle=True, random_state=42)\\n\\n# Se aplica la validación cruzada al modelo de regresión logística\\nlr_scores = cross_val_score(lr_model, x_train_tfidf, y_train, cv=kf)\\n# Imprimimos los resultados de la validación cruzada\\nprint(f\"k-fold cross-validation LR: {np.mean(lr_scores)*100:.4f}%\")'"
            ]
          },
          "execution_count": 6,
          "metadata": {},
          "output_type": "execute_result"
        }
      ],
      "source": [
        "def Regresion(solver, penalty):\n",
        "    lr_model = LogisticRegression(penalty=penalty, solver=solver, max_iter=500)\n",
        "    # Se ajustan los datos al modelo\n",
        "    lr_model.fit(X_train, y_train)\n",
        "\n",
        "    predictions = lr_model.predict(X_test)\n",
        "\n",
        "    # Calcular la exactitud\n",
        "    print(solver)\n",
        "    print(penalty)\n",
        "    exactitud = round(accuracy_score(y_test, predictions),2)\n",
        "    presicion = round(precision_score(y_test, predictions),2)\n",
        "    f1 = round(f1_score(y_test, predictions),2)\n",
        "    recall = round(recall_score(y_test, predictions),2)\n",
        "\n",
        "    print(\"Exactitud:\", exactitud)\n",
        "    print(\"Exactitud:\", presicion)\n",
        "    print(\"Exactitud:\", f1)\n",
        "    print(\"Exactitud:\", recall)"
      ]
    }
  ],
  "metadata": {
    "colab": {
      "provenance": []
    },
    "kernelspec": {
      "display_name": "Python 3",
      "name": "python3"
    },
    "language_info": {
      "codemirror_mode": {
        "name": "ipython",
        "version": 3
      },
      "file_extension": ".py",
      "mimetype": "text/x-python",
      "name": "python",
      "nbconvert_exporter": "python",
      "pygments_lexer": "ipython3",
      "version": "3.10.9"
    }
  },
  "nbformat": 4,
  "nbformat_minor": 0
}
